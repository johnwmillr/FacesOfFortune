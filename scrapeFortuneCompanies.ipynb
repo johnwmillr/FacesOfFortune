{
 "cells": [
  {
   "cell_type": "markdown",
   "metadata": {},
   "source": [
    "# _Faces of Fortune_\n",
    "\n",
    "Determining the average face for the executive boards of each of the top 25 Fortune 500 companies."
   ]
  },
  {
   "cell_type": "code",
   "execution_count": 1,
   "metadata": {},
   "outputs": [
    {
     "name": "stdout",
     "output_type": "stream",
     "text": [
      "Loading face detector and landmark prediction models...\n",
      "Done, models loaded.\n"
     ]
    }
   ],
   "source": [
    "from selenium import webdriver\n",
    "from selenium.webdriver.common.keys import Keys\n",
    "from selenium.webdriver.common.desired_capabilities import DesiredCapabilities\n",
    "import json\n",
    "import requests\n",
    "from bs4 import BeautifulSoup\n",
    "import matplotlib.pyplot as plt\n",
    "import time\n",
    "import pandas as pd\n",
    "import cv2\n",
    "from skimage import io\n",
    "from collections import Counter\n",
    "import os\n",
    "import pickle\n",
    "from google_images_download import google_images_download\n",
    "from facer import facer\n",
    "from io import BytesIO"
   ]
  },
  {
   "cell_type": "markdown",
   "metadata": {},
   "source": [
    "# Start the Selenium browser\n",
    "\n",
    "The Fortune 500 page uses React, so BeautifulSoup HTML parsing won't cut it."
   ]
  },
  {
   "cell_type": "code",
   "execution_count": 24,
   "metadata": {},
   "outputs": [
    {
     "name": "stderr",
     "output_type": "stream",
     "text": [
      "/Users/john/.virtualenvs/average-faces/lib/python3.7/site-packages/ipykernel_launcher.py:4: DeprecationWarning: use options instead of chrome_options\n",
      "  after removing the cwd from sys.path.\n"
     ]
    },
    {
     "name": "stdout",
     "output_type": "stream",
     "text": [
      "Waiting for endpoints to load...\n"
     ]
    }
   ],
   "source": [
    "# Start a new instance of Chrome\n",
    "chrome_options = webdriver.ChromeOptions()\n",
    "chrome_options.add_argument('--no-sandbox')\n",
    "browser = webdriver.Chrome('/usr/local/bin/chromedriver', chrome_options=chrome_options)\n",
    "url = \"https://fortune.com/fortune500/search/?\"\n",
    "browser.get(url)\n",
    "time.sleep(5)\n",
    "\n",
    "# Scroll down to list of endpoints (necessary?)\n",
    "elem = browser.find_element_by_tag_name(\"body\")\n",
    "no_of_pagedowns = 8\n",
    "while no_of_pagedowns:\n",
    "    elem.send_keys(Keys.PAGE_DOWN)\n",
    "    time.sleep(1)\n",
    "    no_of_pagedowns-=1\n",
    "    \n",
    "time.sleep(5)\n",
    "print(\"Done.\")"
   ]
  },
  {
   "cell_type": "markdown",
   "metadata": {},
   "source": [
    "# Get the Fortune 500 page for each company "
   ]
  },
  {
   "cell_type": "code",
   "execution_count": 141,
   "metadata": {},
   "outputs": [],
   "source": [
    "# Extract the column names from the table\n",
    "name = \"searchResults__columnTitle--1Brf4\"\n",
    "header = browser.find_elements_by_class_name(name)\n",
    "columns = [col.text for col in header]\n",
    "columns.append(\"URL_FORBES\")"
   ]
  },
  {
   "cell_type": "code",
   "execution_count": 142,
   "metadata": {},
   "outputs": [],
   "source": [
    "# Get each row of the table\n",
    "rows = browser.find_elements_by_class_name(\"rt-tr-group\")"
   ]
  },
  {
   "cell_type": "code",
   "execution_count": null,
   "metadata": {},
   "outputs": [],
   "source": [
    "# For each row in the table, extract the column values\n",
    "link_name = \"searchResults__cellWrapper--39MAj\"\n",
    "data = []\n",
    "for n, row in enumerate(rows, 1):\n",
    "    if n % 20 == 0 or n == 1:\n",
    "        print(f\"({n}/{len(rows)})\")\n",
    "    cells = row.find_elements_by_css_selector(\"div[role='gridcell']\")\n",
    "    values = [cell.text for cell in cells]\n",
    "    \n",
    "    # Get the Fortune URL for the company\n",
    "    link = row.find_element_by_class_name(link_name).get_attribute(\"href\")\n",
    "    values.append(link)\n",
    "    data.append({key:val for key, val in zip(columns, values)})\n",
    "\n",
    "# Store the scraped data as a DataFrame\n",
    "fortune = (pd.DataFrame(data)\n",
    "        .set_index(\"RANK\"))\n",
    "fortune.to_csv(\"Fortune100.csv\")\n",
    "fortune.head()"
   ]
  },
  {
   "cell_type": "markdown",
   "metadata": {},
   "source": [
    "# Load each company's web page"
   ]
  },
  {
   "cell_type": "code",
   "execution_count": 2,
   "metadata": {},
   "outputs": [
    {
     "data": {
      "text/html": [
       "<div>\n",
       "<style scoped>\n",
       "    .dataframe tbody tr th:only-of-type {\n",
       "        vertical-align: middle;\n",
       "    }\n",
       "\n",
       "    .dataframe tbody tr th {\n",
       "        vertical-align: top;\n",
       "    }\n",
       "\n",
       "    .dataframe thead th {\n",
       "        text-align: right;\n",
       "    }\n",
       "</style>\n",
       "<table border=\"1\" class=\"dataframe\">\n",
       "  <thead>\n",
       "    <tr style=\"text-align: right;\">\n",
       "      <th></th>\n",
       "      <th>NAME</th>\n",
       "      <th>REVENUES ($M)</th>\n",
       "      <th>REVENUE PERCENT CHANGE</th>\n",
       "      <th>PROFITS ($M)</th>\n",
       "      <th>PROFITS PERCENT CHANGE</th>\n",
       "      <th>ASSETS ($M)</th>\n",
       "      <th>MARKET VALUE — AS OF MARCH 29, 2019 ($M)</th>\n",
       "      <th>CHANGE IN RANK (FULL 1000)</th>\n",
       "      <th>EMPLOYEES</th>\n",
       "      <th>CHANGE IN RANK (500 ONLY)</th>\n",
       "      <th>URL_FORBES</th>\n",
       "      <th>URL_COMPANY</th>\n",
       "      <th>SEARCH_URL</th>\n",
       "      <th>URL_COMPANY_SUFFIX</th>\n",
       "      <th>URL_LEADERSHIP</th>\n",
       "      <th>URL_LEADERSHIP_ROOT</th>\n",
       "      <th>URL_DOMAIN</th>\n",
       "    </tr>\n",
       "    <tr>\n",
       "      <th>RANK</th>\n",
       "      <th></th>\n",
       "      <th></th>\n",
       "      <th></th>\n",
       "      <th></th>\n",
       "      <th></th>\n",
       "      <th></th>\n",
       "      <th></th>\n",
       "      <th></th>\n",
       "      <th></th>\n",
       "      <th></th>\n",
       "      <th></th>\n",
       "      <th></th>\n",
       "      <th></th>\n",
       "      <th></th>\n",
       "      <th></th>\n",
       "      <th></th>\n",
       "      <th></th>\n",
       "    </tr>\n",
       "  </thead>\n",
       "  <tbody>\n",
       "    <tr>\n",
       "      <th>1</th>\n",
       "      <td>Walmart</td>\n",
       "      <td>$514,405.0</td>\n",
       "      <td>2.8%</td>\n",
       "      <td>$6,670.0</td>\n",
       "      <td>-32.4%</td>\n",
       "      <td>$219,295.0</td>\n",
       "      <td>$279,880.3</td>\n",
       "      <td>-</td>\n",
       "      <td>2,200,000</td>\n",
       "      <td>-</td>\n",
       "      <td>https://fortune.com/fortune500/2019/walmart</td>\n",
       "      <td>http://www.walmart.com</td>\n",
       "      <td>https://www.google.com/search?q=Walmart+corpor...</td>\n",
       "      <td>walmart.com</td>\n",
       "      <td>https://corporate.walmart.com/our-story/leader...</td>\n",
       "      <td>https://corporate.walmart.com</td>\n",
       "      <td>.com</td>\n",
       "    </tr>\n",
       "    <tr>\n",
       "      <th>2</th>\n",
       "      <td>Exxon Mobil</td>\n",
       "      <td>$290,212.0</td>\n",
       "      <td>18.8%</td>\n",
       "      <td>$20,840.0</td>\n",
       "      <td>5.7%</td>\n",
       "      <td>$346,196.0</td>\n",
       "      <td>$342,172.0</td>\n",
       "      <td>-</td>\n",
       "      <td>71,000</td>\n",
       "      <td>-</td>\n",
       "      <td>https://fortune.com/fortune500/2019/exxon-mobil</td>\n",
       "      <td>http://www.exxonmobil.com</td>\n",
       "      <td>https://www.google.com/search?q=Exxon Mobil+co...</td>\n",
       "      <td>exxonmobil.com</td>\n",
       "      <td>https://corporate.exxonmobil.com/company/who-w...</td>\n",
       "      <td>https://corporate.exxonmobil.com</td>\n",
       "      <td>.com</td>\n",
       "    </tr>\n",
       "    <tr>\n",
       "      <th>3</th>\n",
       "      <td>Apple</td>\n",
       "      <td>$265,595.0</td>\n",
       "      <td>15.9%</td>\n",
       "      <td>$59,531.0</td>\n",
       "      <td>23.1%</td>\n",
       "      <td>$365,725.0</td>\n",
       "      <td>$895,667.4</td>\n",
       "      <td>1</td>\n",
       "      <td>132,000</td>\n",
       "      <td>1</td>\n",
       "      <td>https://fortune.com/fortune500/2019/apple</td>\n",
       "      <td>http://www.apple.com</td>\n",
       "      <td>https://www.google.com/search?q=Apple+corporat...</td>\n",
       "      <td>apple.com</td>\n",
       "      <td>https://www.apple.com/leadership/</td>\n",
       "      <td>https://www.apple.com</td>\n",
       "      <td>.com</td>\n",
       "    </tr>\n",
       "    <tr>\n",
       "      <th>4</th>\n",
       "      <td>Berkshire Hathaway</td>\n",
       "      <td>$247,837.0</td>\n",
       "      <td>2.4%</td>\n",
       "      <td>$4,021.0</td>\n",
       "      <td>-91.1%</td>\n",
       "      <td>$707,794.0</td>\n",
       "      <td>$493,870.3</td>\n",
       "      <td>-1</td>\n",
       "      <td>389,000</td>\n",
       "      <td>-1</td>\n",
       "      <td>https://fortune.com/fortune500/2019/berkshire-...</td>\n",
       "      <td>http://www.berkshirehathaway.com</td>\n",
       "      <td>https://www.google.com/search?q=Berkshire Hath...</td>\n",
       "      <td>berkshirehathaway.com</td>\n",
       "      <td>https://www.berkshirehathawayhs.com/pages/about</td>\n",
       "      <td>https://www.berkshirehathawayhs.com</td>\n",
       "      <td>.com</td>\n",
       "    </tr>\n",
       "    <tr>\n",
       "      <th>5</th>\n",
       "      <td>Amazon.com</td>\n",
       "      <td>$232,887.0</td>\n",
       "      <td>30.9%</td>\n",
       "      <td>$10,073.0</td>\n",
       "      <td>232.1%</td>\n",
       "      <td>$162,648.0</td>\n",
       "      <td>$874,709.5</td>\n",
       "      <td>3</td>\n",
       "      <td>647,500</td>\n",
       "      <td>3</td>\n",
       "      <td>https://fortune.com/fortune500/2019/amazon-com</td>\n",
       "      <td>http://www.amazon.com</td>\n",
       "      <td>https://www.google.com/search?q=Amazon.com+cor...</td>\n",
       "      <td>amazon.com</td>\n",
       "      <td>https://ir.aboutamazon.com/board-of-directors</td>\n",
       "      <td>https://ir.aboutamazon.com</td>\n",
       "      <td>.com</td>\n",
       "    </tr>\n",
       "  </tbody>\n",
       "</table>\n",
       "</div>"
      ],
      "text/plain": [
       "                    NAME REVENUES ($M) REVENUE PERCENT CHANGE PROFITS ($M)  \\\n",
       "RANK                                                                         \n",
       "1                Walmart    $514,405.0                   2.8%     $6,670.0   \n",
       "2            Exxon Mobil    $290,212.0                  18.8%    $20,840.0   \n",
       "3                  Apple    $265,595.0                  15.9%    $59,531.0   \n",
       "4     Berkshire Hathaway    $247,837.0                   2.4%     $4,021.0   \n",
       "5             Amazon.com    $232,887.0                  30.9%    $10,073.0   \n",
       "\n",
       "     PROFITS PERCENT CHANGE ASSETS ($M)  \\\n",
       "RANK                                      \n",
       "1                    -32.4%  $219,295.0   \n",
       "2                      5.7%  $346,196.0   \n",
       "3                     23.1%  $365,725.0   \n",
       "4                    -91.1%  $707,794.0   \n",
       "5                    232.1%  $162,648.0   \n",
       "\n",
       "     MARKET VALUE — AS OF MARCH 29, 2019 ($M) CHANGE IN RANK (FULL 1000)  \\\n",
       "RANK                                                                       \n",
       "1                                  $279,880.3                          -   \n",
       "2                                  $342,172.0                          -   \n",
       "3                                  $895,667.4                          1   \n",
       "4                                  $493,870.3                         -1   \n",
       "5                                  $874,709.5                          3   \n",
       "\n",
       "      EMPLOYEES CHANGE IN RANK (500 ONLY)  \\\n",
       "RANK                                        \n",
       "1     2,200,000                         -   \n",
       "2        71,000                         -   \n",
       "3       132,000                         1   \n",
       "4       389,000                        -1   \n",
       "5       647,500                         3   \n",
       "\n",
       "                                             URL_FORBES  \\\n",
       "RANK                                                      \n",
       "1           https://fortune.com/fortune500/2019/walmart   \n",
       "2       https://fortune.com/fortune500/2019/exxon-mobil   \n",
       "3             https://fortune.com/fortune500/2019/apple   \n",
       "4     https://fortune.com/fortune500/2019/berkshire-...   \n",
       "5        https://fortune.com/fortune500/2019/amazon-com   \n",
       "\n",
       "                           URL_COMPANY  \\\n",
       "RANK                                     \n",
       "1               http://www.walmart.com   \n",
       "2            http://www.exxonmobil.com   \n",
       "3                 http://www.apple.com   \n",
       "4     http://www.berkshirehathaway.com   \n",
       "5                http://www.amazon.com   \n",
       "\n",
       "                                             SEARCH_URL  \\\n",
       "RANK                                                      \n",
       "1     https://www.google.com/search?q=Walmart+corpor...   \n",
       "2     https://www.google.com/search?q=Exxon Mobil+co...   \n",
       "3     https://www.google.com/search?q=Apple+corporat...   \n",
       "4     https://www.google.com/search?q=Berkshire Hath...   \n",
       "5     https://www.google.com/search?q=Amazon.com+cor...   \n",
       "\n",
       "         URL_COMPANY_SUFFIX  \\\n",
       "RANK                          \n",
       "1               walmart.com   \n",
       "2            exxonmobil.com   \n",
       "3                 apple.com   \n",
       "4     berkshirehathaway.com   \n",
       "5                amazon.com   \n",
       "\n",
       "                                         URL_LEADERSHIP  \\\n",
       "RANK                                                      \n",
       "1     https://corporate.walmart.com/our-story/leader...   \n",
       "2     https://corporate.exxonmobil.com/company/who-w...   \n",
       "3                     https://www.apple.com/leadership/   \n",
       "4       https://www.berkshirehathawayhs.com/pages/about   \n",
       "5         https://ir.aboutamazon.com/board-of-directors   \n",
       "\n",
       "                      URL_LEADERSHIP_ROOT URL_DOMAIN  \n",
       "RANK                                                  \n",
       "1           https://corporate.walmart.com       .com  \n",
       "2        https://corporate.exxonmobil.com       .com  \n",
       "3                   https://www.apple.com       .com  \n",
       "4     https://www.berkshirehathawayhs.com       .com  \n",
       "5              https://ir.aboutamazon.com       .com  "
      ]
     },
     "execution_count": 2,
     "metadata": {},
     "output_type": "execute_result"
    }
   ],
   "source": [
    "fortune = pd.read_csv(\"./Fortune100.csv\").set_index(\"RANK\")\n",
    "fortune.head()"
   ]
  },
  {
   "cell_type": "markdown",
   "metadata": {},
   "source": [
    "## Get the company website for each company"
   ]
  },
  {
   "cell_type": "code",
   "execution_count": 227,
   "metadata": {},
   "outputs": [
    {
     "name": "stdout",
     "output_type": "stream",
     "text": [
      "https://fortune.com/fortune500/2019/walmart\n",
      "https://fortune.com/fortune500/2019/general-electric\n",
      "https://fortune.com/fortune500/2019/ups\n",
      "https://fortune.com/fortune500/2019/pfizer\n",
      "https://fortune.com/fortune500/2019/oracle\n"
     ]
    }
   ],
   "source": [
    "name = \"dataTable__value--3n5tL dataTable__valueAlignLeft--3uvNx\"\n",
    "company_urls = []\n",
    "for num_url, url_forbes in enumerate(fortune[\"URL_FORBES\"]):\n",
    "    if num_url % 20 == 0:\n",
    "        print(url_forbes)\n",
    "    page = requests.get(url_forbes)\n",
    "    soup = BeautifulSoup(page.content, \"lxml\")\n",
    "\n",
    "    items = list(map(lambda x: x.find(\"a\"), soup.find_all(class_=name)))\n",
    "    company_url = [item for item in items if item][0].get(\"href\")\n",
    "    company_urls.append(company_url)\n",
    "    time.sleep(1)\n",
    "\n",
    "# Update the DataFrame\n",
    "fortune[\"URL_COMPANY\"] = company_urls\n",
    "fortune.to_csv(\"Fortune100.csv\")"
   ]
  },
  {
   "cell_type": "code",
   "execution_count": 367,
   "metadata": {},
   "outputs": [],
   "source": [
    "fortune = pd.read_csv(\"./Fortune100.csv\").set_index(\"RANK\")"
   ]
  },
  {
   "cell_type": "markdown",
   "metadata": {},
   "source": [
    "# Identify each company's leadership page"
   ]
  },
  {
   "cell_type": "code",
   "execution_count": 3,
   "metadata": {},
   "outputs": [],
   "source": [
    "def get_google_search_url(company):\n",
    "    return f\"https://www.google.com/search?q={company}+corporate+leadership+page\""
   ]
  },
  {
   "cell_type": "code",
   "execution_count": 385,
   "metadata": {},
   "outputs": [],
   "source": [
    "# Add the Google leadership search URLs to the DataFrame\n",
    "fortune[\"SEARCH_URL\"] = fortune[\"NAME\"].apply(get_google_search_url)\n",
    "\n",
    "# Strip the HTTPS stuff from the front of the company URL\n",
    "fortune[\"URL_DOMAIN\"] = fortune[\"URL_COMPANY\"].apply(lambda x: \".\" + x.rsplit(\".\", 1)[-1])\n",
    "fortune[\"URL_COMPANY_SUFFIX\"] = fortune[\"URL_COMPANY\"].apply(lambda x: \".\".join(x.rsplit(\".\")[1:]))\n",
    "fortune.to_csv(\"./Fortune100.csv\")"
   ]
  },
  {
   "cell_type": "code",
   "execution_count": null,
   "metadata": {},
   "outputs": [],
   "source": [
    "# Get each company's (likely) leadership page from Google searches\n",
    "leadership_urls = []\n",
    "cols = [\"NAME\", \"URL_COMPANY_SUFFIX\", \"SEARCH_URL\"]\n",
    "for rank, (company, suffix, url) in fortune[cols].iterrows():\n",
    "    if rank % 20 == 0 or rank == 1:\n",
    "        print(f\"({rank:2.0f}/{fortune.index.max()}): {company}\")\n",
    "        \n",
    "    # Open the Google search page in Selenium\n",
    "    browser.get(url)\n",
    "    time.sleep(3)\n",
    "    hits = browser.find_elements_by_class_name(\"bkWMgd\")\n",
    "    \n",
    "    # Loop through the top hits on the page\n",
    "    leadership_url = None\n",
    "    for hit in hits:\n",
    "        try:\n",
    "            r = hit.find_element_by_class_name(\"r\")\n",
    "        except:\n",
    "            continue\n",
    "        hit_url = r.find_element_by_css_selector(\"a\").get_attribute(\"href\")\n",
    "        if suffix in hit_url:\n",
    "            leadership_url = hit_url\n",
    "            break\n",
    "    leadership_urls.append(leadership_url)\n",
    "    \n",
    "# Update the DataFrame\n",
    "fortune[\"URL_LEADERSHIP\"] = leadership_urls\n",
    "fortune.to_csv(\"Fortune100.csv\")"
   ]
  },
  {
   "cell_type": "code",
   "execution_count": 373,
   "metadata": {},
   "outputs": [],
   "source": [
    "# Manually add the leadership URLs we missed\n",
    "col = \"URL_LEADERSHIP\"\n",
    "fortune.loc[4, col] = \"https://www.berkshirehathawayhs.com/pages/about\"\n",
    "fortune.loc[9, col] = \"https://investors.att.com/corporate-governance/leadership\"\n",
    "fortune.loc[12, col] = \"https://media.ford.com/content/fordmedia/fna/us/en/people.filter.company-officers.0.50.html\" # Might need manual work\n",
    "fortune.loc[15, col] = \"https://abc.xyz/investor/other/board/#\" # Need to Google image search the names\n",
    "fortune.loc[20, col] = \"http://ir.kroger.com/management-and-directors\" # Need to Google image search the names\n",
    "fortune.loc[32, col] = \"https://www.cmcsa.com/corporate-governance/executive-officers\" # Requires manual work\n",
    "fortune.to_csv(\"./Fortune100.csv\")"
   ]
  },
  {
   "cell_type": "code",
   "execution_count": 387,
   "metadata": {},
   "outputs": [],
   "source": [
    "# Determine the roots for each of the leadership URLs (for image paths later)\n",
    "def get_leadership_url_root(row):\n",
    "    try:\n",
    "        return row[\"URL_LEADERSHIP\"].rsplit(row[\"URL_DOMAIN\"], 1)[0] + row[\"URL_DOMAIN\"]\n",
    "    except:\n",
    "        return None"
   ]
  },
  {
   "cell_type": "code",
   "execution_count": 388,
   "metadata": {},
   "outputs": [],
   "source": [
    "fortune[\"URL_LEADERSHIP_ROOT\"] = fortune.apply(get_leadership_url_root, 1)\n",
    "fortune.to_csv(\"./Fortune100.csv\")"
   ]
  },
  {
   "cell_type": "markdown",
   "metadata": {},
   "source": [
    "# Scrape all images from each company's leadership page"
   ]
  },
  {
   "cell_type": "code",
   "execution_count": 75,
   "metadata": {},
   "outputs": [],
   "source": [
    "# https://stackoverflow.com/questions/52633697/selenium-python-how-to-capture-network-traffics-response\n",
    "class ImageScraper(object):\n",
    "    \n",
    "    def __init__(self, wait_time=1):\n",
    "        # Run this once to start the Chrome instance\n",
    "        caps = DesiredCapabilities.CHROME\n",
    "        caps['loggingPrefs'] = {'performance': 'ALL'}\n",
    "        self.driver = webdriver.Chrome(desired_capabilities=caps)\n",
    "        self.browser_log = None\n",
    "        self.responses = None\n",
    "        self.wait_time = wait_time # seconds\n",
    "        \n",
    "        # Maximize the window\n",
    "        kwargs = dict(x=0, y=0, width=1340, height=900)\n",
    "        self.driver.set_window_rect(**kwargs)\n",
    "        \n",
    "    def _load_page(self, url):\n",
    "        # Load the page\n",
    "        self.driver.delete_all_cookies()\n",
    "        self.driver.get(url)\n",
    "        self.driver.refresh()\n",
    "        self.driver.delete_all_cookies()\n",
    "        self.driver.get(url)\n",
    "        time.sleep(0.2)\n",
    "        \n",
    "        # Scroll to the bottom & top of page, prompting image loads                \n",
    "        elem = self.driver.find_element_by_tag_name(\"body\")\n",
    "        no_of_pagedowns = 10\n",
    "        while no_of_pagedowns:\n",
    "            elem.send_keys(Keys.PAGE_DOWN)\n",
    "            time.sleep(0.8)\n",
    "            no_of_pagedowns-=1\n",
    "        time.sleep(0.5)\n",
    "        for pos in 2 * [\"0\", \"document.body.scrollHeight\"]:\n",
    "            scroll = f\"window.scrollTo(0, {pos});\"\n",
    "            self.driver.execute_script(scroll)\n",
    "            time.sleep(0.2)\n",
    "        time.sleep(0.5)\n",
    "        self.browser_log = self.driver.get_log('performance')\n",
    "        return\n",
    "\n",
    "    def _process_browser_log_entry(self, entry):\n",
    "        return json.loads(entry['message'])['message']\n",
    "\n",
    "    def get_all_image_links(self, url):\n",
    "        \"\"\"Returns a list of all image URLs on the page\"\"\"\n",
    "        self._load_page(url)\n",
    "        \n",
    "        # Parse the network events\n",
    "        events = [self._process_browser_log_entry(entry) for entry in self.browser_log]\n",
    "        events = [event for event in events if 'Network.response' in event['method']]\n",
    "        events = pd.DataFrame([event['params'] for event in events])\n",
    "        responses = pd.DataFrame(events[events.type == \"Image\"]['response'].tolist())\n",
    "        self.responses = responses\n",
    "        return responses['url'].drop_duplicates()\n",
    "    \n",
    "    def close(self):\n",
    "        print(\"Closing browser... \", end=\"\")\n",
    "        self.driver.quit()\n",
    "        print(\"Done.\")        \n",
    "    \n",
    "    def __del__(self):\n",
    "        self.close()"
   ]
  },
  {
   "cell_type": "code",
   "execution_count": 76,
   "metadata": {},
   "outputs": [],
   "source": [
    "# Helper functions\n",
    "def shape_or_ratio_is_good(imshape):\n",
    "    return (imshape == most_common_shape) or (get_ratio(imshape) == most_common_ratio)\n",
    "\n",
    "def okay_to_print(num, always_print=True):\n",
    "    return num == 1 or num == N or num % 5 == 0 or always_print\n",
    "\n",
    "def mimeType_is_valid(mimeType):\n",
    "    return mimeType.rsplit(\"/\", 1)[-1].lower() in [\"png\", \"jpg\", \"jpeg\", \"webp\"]\n",
    "\n",
    "def download_image_links(links, company):\n",
    "    images = {}\n",
    "    sizes, skips = [], []\n",
    "    for n, image_url in enumerate(links):\n",
    "        alt = f\"{company}_image_{n:02.0f}\"\n",
    "        try:\n",
    "            image = io.imread(image_url)[..., ::-1]\n",
    "        except:\n",
    "            skips.append(image_url)\n",
    "            continue\n",
    "\n",
    "        # Keep the image URL, image array, and image size\n",
    "        images[alt] = [image_url, image]\n",
    "        sizes.append(image.shape)\n",
    "    return images, sizes, skips"
   ]
  },
  {
   "cell_type": "code",
   "execution_count": 659,
   "metadata": {},
   "outputs": [
    {
     "data": {
      "text/plain": [
       "<__main__.ImageScraper at 0x138f61d50>"
      ]
     },
     "execution_count": 659,
     "metadata": {},
     "output_type": "execute_result"
    }
   ],
   "source": [
    "# Create the scraper instance, opening Chrome\n",
    "scraper = ImageScraper()\n",
    "scraper"
   ]
  },
  {
   "cell_type": "code",
   "execution_count": null,
   "metadata": {},
   "outputs": [],
   "source": [
    "# Get the top 25 company's (likely) leadership page from Google searches\n",
    "N = 100\n",
    "cols = [\"NAME\", \"URL_LEADERSHIP\", \"URL_LEADERSHIP_ROOT\"]\n",
    "all_image_links = {}\n",
    "skipped_links = []\n",
    "t0 = time.time()\n",
    "for rank, (company, url, root) in fortune.head(N)[cols].iterrows():\n",
    "    if rank <= 27:\n",
    "        continue\n",
    "    try:\n",
    "        company = company.replace(\" \", \"_\")\n",
    "        if okay_to_print(rank):\n",
    "            print(f\"({rank:2.0f}/{N}): {company}\\n\\t{url}\")\n",
    "            \n",
    "        # Get a link to every image on the pank\n",
    "        image_links = scraper.get_all_image_links(url)\n",
    "        valid_links = scraper.responses['mimeType'].apply(mimeType_is_valid)\n",
    "        image_links = image_links[valid_links]\n",
    "        all_image_links[company] = image_links\n",
    "\n",
    "        # Attempt to read each image\n",
    "        images, sizes, skips = download_image_links(image_links, company)\n",
    "        skipped_links.extend(skips)\n",
    "        if okay_to_print(rank):\n",
    "            print(f\"Downloaded {len(images)} images.\")\n",
    "        if len(images) == 0:\n",
    "            continue\n",
    "\n",
    "        # What's the most common image shape and ratio?\n",
    "        get_ratio = lambda x: round(1000 * x[0] / x[1])\n",
    "        most_common_shape = Counter([s[:2] for s in sizes]).most_common(1)[0][0]\n",
    "        most_common_ratio = Counter(list(map(get_ratio, sizes))).most_common(1)[0][0]\n",
    "\n",
    "        # Create a company images folder if it doesn't already exist\n",
    "        folder = f\"./images/{rank:02.0f}_{company}\"\n",
    "        if not os.path.exists(folder):\n",
    "            os.mkdir(folder)\n",
    "\n",
    "        # Save all images, but note the ones with questionable ratios\n",
    "        for label, (image_url, array) in images.items():\n",
    "            if not shape_or_ratio_is_good(array.shape[:2]):\n",
    "                label += \"_bad_size\"\n",
    "            label += \".jpg\"\n",
    "            fp = os.path.join(folder, label)\n",
    "            cv2.imwrite(fp, array)\n",
    "\n",
    "    except Exception as e:\n",
    "        print(f\"Error with '{company}':\\n{e}\")\n",
    "    time.sleep(0.2)\n",
    "\n",
    "# Close the browser\n",
    "scraper.close()\n",
    "del(scraper)\n",
    "\n",
    "# Save the image links\n",
    "with open(f\"fortune_{N}_image_links.pickle\", \"wb\") as outfile:\n",
    "    pickle.dump(all_image_links, outfile)\n",
    "print(f\"All done. Total time elapsed: {(time.time() - t0) / 60:.2f} minutes.\")"
   ]
  },
  {
   "cell_type": "markdown",
   "metadata": {},
   "source": [
    "# Manual intervention"
   ]
  },
  {
   "cell_type": "code",
   "execution_count": 79,
   "metadata": {},
   "outputs": [],
   "source": [
    "fortune = pd.read_csv(\"./Fortune100.csv\").set_index(\"RANK\")\n",
    "bad_scrapes = [4, 6, 11, 14, 15, 20, 26, 28, 32, 35, 37]"
   ]
  },
  {
   "cell_type": "markdown",
   "metadata": {},
   "source": [
    "# Rerun the Image Scraper\n",
    "\n",
    "(when there are images on the page, but they weren't scraped well or something)"
   ]
  },
  {
   "cell_type": "code",
   "execution_count": 80,
   "metadata": {},
   "outputs": [],
   "source": [
    "# Launch the browser\n",
    "scraper = ImageScraper()"
   ]
  },
  {
   "cell_type": "code",
   "execution_count": 249,
   "metadata": {},
   "outputs": [],
   "source": [
    "def read_image_from_link(url, invert=False):\n",
    "    r = requests.get(url, stream=True)\n",
    "    if r.status_code != 200:\n",
    "        print(r.status_code)\n",
    "        return\n",
    "    im = io.imread(BytesIO(r.content))\n",
    "    return im[..., ::-1] if not invert else im\n",
    "\n",
    "def download_and_save_images(company, rank, links, invert=False, swap_cols=False, start=0):\n",
    "    folder = f\"./images/{rank:02.0f}_{company.replace(' ', '_')}\"\n",
    "    for n, url in enumerate(links, start=start):\n",
    "        print(f\"({n + 1}/{len(links)}): '{url}'\")\n",
    "        # Save the image\n",
    "        image = read_image_from_link(url, invert)\n",
    "        if image is None:\n",
    "            continue\n",
    "        image = image[:, :, (2, 1, 0)] if swap_cols else image\n",
    "        fp = f'{folder}/{company}_image_{n:02.0f}.jpg'\n",
    "        cv2.imwrite(fp, image)\n",
    "        time.sleep(1)"
   ]
  },
  {
   "cell_type": "markdown",
   "metadata": {},
   "source": [
    "## (2) Exxon Mobil\n",
    "\n",
    "Need more faces"
   ]
  },
  {
   "cell_type": "code",
   "execution_count": 556,
   "metadata": {},
   "outputs": [],
   "source": [
    "url = \"https://corporate.exxonmobil.com/company/who-we-are/corporate-governance/exxonmobil-board-of-directors#xxonobilorporationoardfirectors\""
   ]
  },
  {
   "cell_type": "markdown",
   "metadata": {},
   "source": [
    "## (4) Berkshire Hathaway"
   ]
  },
  {
   "cell_type": "code",
   "execution_count": 457,
   "metadata": {},
   "outputs": [],
   "source": [
    "links = scraper.get_all_image_links(url)\n",
    "valid_links = scraper.responses['mimeType'].apply(mimeType_is_valid)"
   ]
  },
  {
   "cell_type": "code",
   "execution_count": null,
   "metadata": {},
   "outputs": [],
   "source": [
    "company = \"Berkshire_Hathaway\"\n",
    "download_and_save_images(company, 4, links[valid_links])"
   ]
  },
  {
   "cell_type": "code",
   "execution_count": 362,
   "metadata": {},
   "outputs": [],
   "source": [
    "scraper = ImageScraper()"
   ]
  },
  {
   "cell_type": "markdown",
   "metadata": {},
   "source": [
    "## (10) AmerisourceBergen"
   ]
  },
  {
   "cell_type": "code",
   "execution_count": 363,
   "metadata": {},
   "outputs": [
    {
     "name": "stdout",
     "output_type": "stream",
     "text": [
      "AmerisourceBergen\n",
      "http://investor.amerisourcebergen.com/corporate-governance/management\n"
     ]
    }
   ],
   "source": [
    "rank = 10\n",
    "company = fortune.loc[rank, \"NAME\"]\n",
    "url = \"http://investor.amerisourcebergen.com/corporate-governance/management\"\n",
    "print(company)\n",
    "print(url)"
   ]
  },
  {
   "cell_type": "code",
   "execution_count": 364,
   "metadata": {},
   "outputs": [
    {
     "name": "stdout",
     "output_type": "stream",
     "text": [
      "Closing browser... Done.\n"
     ]
    }
   ],
   "source": [
    "links = scraper.get_all_image_links(url)\n",
    "valid_links = scraper.responses['mimeType'].apply(mimeType_is_valid)\n",
    "links = links[valid_links]"
   ]
  },
  {
   "cell_type": "code",
   "execution_count": 370,
   "metadata": {},
   "outputs": [
    {
     "data": {
      "text/plain": [
       "<matplotlib.image.AxesImage at 0x13ab7f110>"
      ]
     },
     "execution_count": 370,
     "metadata": {},
     "output_type": "execute_result"
    },
    {
     "data": {
      "image/png": "[encoded data removed]",
      "text/plain": [
       "<Figure size 432x288 with 1 Axes>"
      ]
     },
     "metadata": {
      "needs_background": "light"
     },
     "output_type": "display_data"
    }
   ],
   "source": [
    "im = read_image_from_link(links.iloc[0], invert=True)\n",
    "plt.imshow(im)"
   ]
  },
  {
   "cell_type": "code",
   "execution_count": 374,
   "metadata": {},
   "outputs": [
    {
     "name": "stdout",
     "output_type": "stream",
     "text": [
      "(1/12): 'http://investor.amerisourcebergen.com/system/files-encrypted/styles/nir_person_large_bio_pic/encrypt/nasdaq_kms/people/migrations/Steve_Collis_140x190.jpg?itok=H4K0gIOJ'\n",
      "(2/12): 'http://investor.amerisourcebergen.com/system/files-encrypted/styles/nir_person_large_bio_pic/encrypt/nasdaq_kms/people/migrations/James_Cleary_140x190.jpg?itok=mSLV8NcK'\n",
      "(3/12): 'http://investor.amerisourcebergen.com/system/files-encrypted/styles/nir_person_large_bio_pic/encrypt/nasdaq_kms/people/2019/03/26/12-00-41/Silvana_Battaglia_140x180_rev.jpg?itok=8Ys_3O3m'\n",
      "(4/12): 'http://investor.amerisourcebergen.com/system/files-encrypted/styles/nir_person_large_bio_pic/encrypt/nasdaq_kms/people/migrations/John_Chou_140x190.jpg?itok=5FUb1azR'\n",
      "(5/12): 'http://investor.amerisourcebergen.com/sites/g/files/knoqqb4151/themes/site/nir_pid296/dist/images/Investors_Hero_Image.png'\n",
      "(6/12): 'http://investor.amerisourcebergen.com/system/files-encrypted/styles/nir_person_large_bio_pic/encrypt/nasdaq_kms/people/migrations/Gina_Clark_140x190.jpg?itok=s533M3XH'\n",
      "(7/12): 'http://investor.amerisourcebergen.com/system/files-encrypted/styles/nir_person_large_bio_pic/encrypt/nasdaq_kms/people/migrations/Dale_Danilewitz_140x190.jpg?itok=cEMGujr-'\n",
      "(8/12): 'http://investor.amerisourcebergen.com/system/files-encrypted/styles/nir_person_large_bio_pic/encrypt/nasdaq_kms/people/migrations/Bob_Mauch_140x190.jpg?itok=JkZsc4Jg'\n",
      "(9/12): 'http://investor.amerisourcebergen.com/system/files-encrypted/styles/nir_person_large_bio_pic/encrypt/nasdaq_kms/people/migrations/Laz_Krikorian_140x190.jpg?itok=Axy5CxEn'\n",
      "(10/12): 'http://investor.amerisourcebergen.com/system/files-encrypted/styles/nir_person_large_bio_pic/encrypt/nasdaq_kms/people/migrations/Kathy_Gaddes_140x190.jpg?itok=QGwaEI3L'\n",
      "(11/12): 'http://investor.amerisourcebergen.com/system/files-encrypted/styles/nir_person_large_bio_pic/encrypt/nasdaq_kms/people/migrations/Hyung_Bak_140x190.jpg?itok=dMYkNS1P'\n",
      "(12/12): 'http://investor.amerisourcebergen.com/system/files-encrypted/styles/nir_person_large_bio_pic/encrypt/nasdaq_kms/people/migrations/Jack_Quinn_140x190.jpg?itok=aqMZ_HmV'\n"
     ]
    }
   ],
   "source": [
    "download_and_save_images(company, rank, links[:-1], invert=False, swap_cols=False)"
   ]
  },
  {
   "cell_type": "markdown",
   "metadata": {},
   "source": [
    "## (11) Chevron"
   ]
  },
  {
   "cell_type": "code",
   "execution_count": 529,
   "metadata": {},
   "outputs": [
    {
     "name": "stdout",
     "output_type": "stream",
     "text": [
      "https://www.chevron.com/about/leadership\n"
     ]
    }
   ],
   "source": [
    "url = fortune.loc[[11]][\"URL_LEADERSHIP\"].iloc[0]\n",
    "print(url)"
   ]
  },
  {
   "cell_type": "code",
   "execution_count": 530,
   "metadata": {},
   "outputs": [],
   "source": [
    "links = scraper.get_all_image_links(url)\n",
    "valid_links = scraper.responses['mimeType'].apply(mimeType_is_valid)\n",
    "links = links[valid_links].apply(lambda x: x.rsplit(\"?\", 1)[0])"
   ]
  },
  {
   "cell_type": "code",
   "execution_count": null,
   "metadata": {},
   "outputs": [],
   "source": [
    "company = \"Chevron\"\n",
    "folder = \"./images/11_Chevron\"\n",
    "for n, url in enumerate(links):\n",
    "    # Request the image\n",
    "    print(f\"{n}/{len(links)}: {url}\")\n",
    "    r = requests.get(url, stream=True)\n",
    "    if r.status_code != 200:\n",
    "        print(r.status_code)\n",
    "        break\n",
    "        \n",
    "    # Save the image\n",
    "    image = r.raw.read()\n",
    "    fp = f'{folder}/{company}_image_{n:02.0f}.jpg'\n",
    "    open(fp, \"wb\").write(image)\n",
    "    time.sleep(2)"
   ]
  },
  {
   "cell_type": "markdown",
   "metadata": {},
   "source": [
    "## (26) Microsoft"
   ]
  },
  {
   "cell_type": "code",
   "execution_count": 148,
   "metadata": {},
   "outputs": [],
   "source": [
    "rank = 26\n",
    "url = fortune.loc[rank][\"URL_LEADERSHIP\"]\n",
    "company = fortune.loc[rank][\"NAME\"]"
   ]
  },
  {
   "cell_type": "code",
   "execution_count": 82,
   "metadata": {},
   "outputs": [],
   "source": [
    "links = scraper.get_all_image_links(url)\n",
    "valid_links = scraper.responses['mimeType'].apply(mimeType_is_valid)\n",
    "links = links[valid_links]"
   ]
  },
  {
   "cell_type": "code",
   "execution_count": 242,
   "metadata": {},
   "outputs": [
    {
     "data": {
      "text/plain": [
       "<matplotlib.image.AxesImage at 0x141a84d90>"
      ]
     },
     "execution_count": 242,
     "metadata": {},
     "output_type": "execute_result"
    },
    {
     "data": {
      "image/png": "[encoded data removed]",
      "text/plain": [
       "<Figure size 432x288 with 1 Axes>"
      ]
     },
     "metadata": {
      "needs_background": "light"
     },
     "output_type": "display_data"
    }
   ],
   "source": [
    "im = read_image_from_link(links.iloc[16], invert=True)\n",
    "plt.imshow(im)"
   ]
  },
  {
   "cell_type": "code",
   "execution_count": null,
   "metadata": {},
   "outputs": [],
   "source": [
    "download_and_save_images(company, rank, links.iloc[:16], invert=True)\n",
    "download_and_save_images(company, rank, links.iloc[16:], invert=True, swap_cols=True, start=16)"
   ]
  },
  {
   "cell_type": "markdown",
   "metadata": {},
   "source": [
    "## (35) DuPont"
   ]
  },
  {
   "cell_type": "code",
   "execution_count": 312,
   "metadata": {},
   "outputs": [
    {
     "name": "stdout",
     "output_type": "stream",
     "text": [
      "DuPont de Nemours\n"
     ]
    }
   ],
   "source": [
    "rank = 35\n",
    "url = fortune.loc[rank][\"URL_LEADERSHIP\"]\n",
    "company = fortune.loc[rank][\"NAME\"]\n",
    "print(company)"
   ]
  },
  {
   "cell_type": "code",
   "execution_count": 314,
   "metadata": {},
   "outputs": [],
   "source": [
    "scraper = ImageScraper()"
   ]
  },
  {
   "cell_type": "code",
   "execution_count": 315,
   "metadata": {},
   "outputs": [],
   "source": [
    "links = scraper.get_all_image_links(url)\n",
    "valid_links = scraper.responses['mimeType'].apply(mimeType_is_valid)\n",
    "links = links[valid_links]"
   ]
  },
  {
   "cell_type": "code",
   "execution_count": 321,
   "metadata": {},
   "outputs": [
    {
     "data": {
      "text/plain": [
       "<matplotlib.image.AxesImage at 0x146183d10>"
      ]
     },
     "execution_count": 321,
     "metadata": {},
     "output_type": "execute_result"
    },
    {
     "data": {
      "image/png": "[encoded data removed]",
      "text/plain": [
       "<Figure size 432x288 with 1 Axes>"
      ]
     },
     "metadata": {
      "needs_background": "light"
     },
     "output_type": "display_data"
    }
   ],
   "source": [
    "im = read_image_from_link(links.iloc[3], invert=True)\n",
    "plt.imshow(im)"
   ]
  },
  {
   "cell_type": "code",
   "execution_count": 323,
   "metadata": {},
   "outputs": [
    {
     "name": "stdout",
     "output_type": "stream",
     "text": [
      "(1/20): 'https://www.dupont.com/content/dam/dupont/amer/us/en/corporate/about-us/leadership/desktop/corporate-circle-ed-breen-120x120.png'\n",
      "(2/20): 'https://www.dupont.com/content/dam/dupont/amer/us/en/corporate/about-us/leadership/desktop/corporate-circle-marc-doyle-120x120.png'\n",
      "(3/20): 'https://www.dupont.com/content/dam/dupont/amer/us/en/corporate/about-us/leadership/desktop/corporate-circle-jeanmarie-120x120.png'\n",
      "(4/20): 'https://www.dupont.com/content/dam/dupont/amer/us/en/corporate/about-us/leadership/desktop/corporate-circle-erik-hoover-120x120.png'\n",
      "(5/20): 'https://www.dupont.com/content/dam/dupont/amer/us/en/corporate/about-us/leadership/desktop/corporate-rose-lee-120x120-bw.png'\n",
      "(6/20): 'https://www.dupont.com/content/dam/dupont/amer/us/en/corporate/about-us/leadership/desktop/corporate-circle-rs-120x120.png'\n",
      "(7/20): 'https://www.dupont.com/content/dam/dupont/amer/us/en/corporate/about-us/leadership/desktop/corporate-mattias-heinzel-120x120-bw.png'\n",
      "(8/20): 'https://www.dupont.com/content/dam/dupont/amer/us/en/corporate/about-us/leadership/desktop/corporate-jon-d-kemp-120x120-bw.png'\n",
      "(9/20): 'https://www.dupont.com/content/dam/dupont/amer/us/en/corporate/about-us/leadership/desktop/corporate-alexa-dembek-120x120-bw.png'\n",
      "(10/20): 'https://www.dupont.com/content/dam/dupont/amer/us/en/corporate/about-us/leadership/desktop/corporate-darrell-ford-120x120-bw.png'\n",
      "(11/20): 'https://www.dupont.com/content/dam/dupont/amer/us/en/corporate/about-us/leadership/desktop/corporate-steven-p-larrabee-120x120-bw.png'\n",
      "(12/20): 'https://www.dupont.com/content/dam/dupont/amer/us/en/corporate/about-us/leadership/desktop/corporate-circle-raj-bw-120x120.png'\n",
      "(13/20): 'https://www.dupont.com/content/dam/dupont/amer/us/en/corporate/about-us/leadership/desktop/corporate-daryl-roberts-120x120-bw.png'\n",
      "(14/20): 'https://s7d4.scene7.com/is/image/Dupont/corporate-leadership-1440x500-hero?fmt=png-alpha&$HERO_F_S_D$'\n",
      "(15/20): 'https://www.dupont.com/content/dam/dupont/amer/us/en/corporate/general/icons/nav-globe-icon.png'\n",
      "(16/20): 'https://www.dupont.com/content/dam/dupont/amer/us/en/corporate/about-us/leadership/desktop/corporate-investor-relations-305x259.jpg'\n",
      "(17/20): 'https://www.dupont.com/content/dam/dupont/amer/us/en/corporate/about-us/leadership/desktop/corporate-career-opportunities-305x259.jpg'\n",
      "(18/20): 'https://www.dupont.com/content/dam/unstructured/DuPont_New_2018_LogoReverse%20homepages2.png'\n",
      "(19/20): 'https://www.dupont.com/content/dam/unstructured/dupont-logo2-139x50.png'\n",
      "(20/20): 'https://consent.trustarc.com/get?name=trustarc_cookiepreferences.png'\n"
     ]
    }
   ],
   "source": [
    "download_and_save_images(company, rank, links.iloc[2:], invert=True, swap_cols=True)"
   ]
  },
  {
   "cell_type": "markdown",
   "metadata": {},
   "source": [
    "## (37) Johnson & Johnson"
   ]
  },
  {
   "cell_type": "code",
   "execution_count": 333,
   "metadata": {},
   "outputs": [
    {
     "name": "stdout",
     "output_type": "stream",
     "text": [
      "Johnson & Johnson\n",
      "https://www.jnj.com/leadership/our-leadership-team\n"
     ]
    }
   ],
   "source": [
    "rank = 37\n",
    "url = fortune.loc[rank, \"URL_LEADERSHIP\"]\n",
    "company = fortune.loc[rank, \"NAME\"]\n",
    "print(company)\n",
    "print(url)"
   ]
  },
  {
   "cell_type": "code",
   "execution_count": 329,
   "metadata": {},
   "outputs": [],
   "source": [
    "scraper = ImageScraper()"
   ]
  },
  {
   "cell_type": "code",
   "execution_count": 334,
   "metadata": {},
   "outputs": [],
   "source": [
    "links = scraper.get_all_image_links(url)\n",
    "valid_links = scraper.responses['mimeType'].apply(mimeType_is_valid)\n",
    "links = links[valid_links]"
   ]
  },
  {
   "cell_type": "code",
   "execution_count": 354,
   "metadata": {},
   "outputs": [
    {
     "data": {
      "text/plain": [
       "<matplotlib.image.AxesImage at 0x13ab95b10>"
      ]
     },
     "execution_count": 354,
     "metadata": {},
     "output_type": "execute_result"
    },
    {
     "data": {
      "image/png": "[encoded data removed]",
      "text/plain": [
       "<Figure size 432x288 with 1 Axes>"
      ]
     },
     "metadata": {
      "needs_background": "light"
     },
     "output_type": "display_data"
    }
   ],
   "source": [
    "im = read_image_from_link(links.iloc[30], invert=True)\n",
    "plt.imshow(im)"
   ]
  },
  {
   "cell_type": "code",
   "execution_count": 358,
   "metadata": {},
   "outputs": [
    {
     "name": "stdout",
     "output_type": "stream",
     "text": [
      "(1/22): 'https://jnj-content-lab.brightspotcdn.com/dims4/default/54101ff/2147483647/strip/true/crop/360x360+0+0/resize/360x360!/quality/90/?url=https%3A%2F%2Fjnj-content-lab.brightspotcdn.com%2F24%2F88%2Fb261d322488cbe8cfe5ee5bb9655%2Falex-gorsky-1.png'\n",
      "(2/22): 'https://jnj-content-lab.brightspotcdn.com/dims4/default/63ffa64/2147483647/strip/true/crop/255x255+0+0/resize/360x360!/quality/90/?url=https%3A%2F%2Fjnj-content-lab.brightspotcdn.com%2F3d%2F96%2Fb9eb6b694b93a522270ccb1cca21%2Fround-joaquinduato-340.png'\n",
      "(3/22): 'https://jnj-content-lab.brightspotcdn.com/dims4/default/2826760/2147483647/strip/true/crop/360x360+0+0/resize/360x360!/quality/90/?url=https%3A%2F%2Fjnj-content-lab.brightspotcdn.com%2F01%2Fcf%2Fc5b3877c4890842e70c75eed9f5e%2Fpeter-fasolo-1.png'\n",
      "(4/22): 'https://jnj-content-lab.brightspotcdn.com/dims4/default/e7ac767/2147483647/strip/true/crop/360x360+0+0/resize/360x360!/quality/90/?url=https%3A%2F%2Fjnj-content-lab.brightspotcdn.com%2F83%2Fff%2F19167fb2480e831189e88f33c091%2Fashley-mcevoy-2.png'\n",
      "(5/22): 'https://jnj-content-lab.brightspotcdn.com/dims4/default/d54fa07/2147483647/strip/true/crop/360x360+0+0/resize/360x360!/quality/90/?url=https%3A%2F%2Fjnj-content-lab.brightspotcdn.com%2F42%2F32%2F17828b1b4698bf1b7a161c5bae3e%2Fthibaut-mongon-1.png'\n",
      "(6/22): 'https://jnj-content-lab.brightspotcdn.com/dims4/default/ef61bbb/2147483647/strip/true/crop/255x255+0+0/resize/360x360!/quality/90/?url=https%3A%2F%2Fjnj-content-lab.brightspotcdn.com%2F76%2F55%2F5cd42e394025a5d8635df9188b31%2Fmichael-sneed-round.png'\n",
      "(7/22): 'https://jnj-content-lab.brightspotcdn.com/dims4/default/dff370f/2147483647/strip/true/crop/255x255+0+0/resize/360x360!/quality/90/?url=https%3A%2F%2Fjnj-content-lab.brightspotcdn.com%2F96%2F9e%2F6dcfdfe2419ea3d4b850f00c2a4d%2Fpaul-stoffels-round.png'\n",
      "(8/22): 'https://jnj-content-lab.brightspotcdn.com/dims4/default/d86e050/2147483647/strip/true/crop/330x330+0+0/resize/360x360!/quality/90/?url=https%3A%2F%2Fjnj-content-lab.brightspotcdn.com%2F75%2Fd0%2F0a5dd97a487fbdace1f43147b577%2Fjennifertaubert-silo.png'\n",
      "(9/22): 'https://jnj-content-lab.brightspotcdn.com/dims4/default/24c6dac/2147483647/strip/true/crop/360x360+0+0/resize/360x360!/quality/90/?url=https%3A%2F%2Fjnj-content-lab.brightspotcdn.com%2Ffd%2F5e%2F314287ea4f7d95a3da0d55b314f6%2Fmike-ullmann-1.png'\n",
      "(10/22): 'https://jnj-content-lab.brightspotcdn.com/dims4/default/6cf132f/2147483647/strip/true/crop/255x255+0+0/resize/360x360!/quality/90/?url=https%3A%2F%2Fjnj-content-lab.brightspotcdn.com%2Fd8%2F5e%2F22e84c0e4716b79e19b63e329256%2Fkatheyn-wengel-round.png'\n",
      "(11/22): 'https://jnj-content-lab.brightspotcdn.com/dims4/default/cb286b0/2147483647/strip/true/crop/360x360+0+0/resize/360x360!/quality/90/?url=https%3A%2F%2Fjnj-content-lab.brightspotcdn.com%2Feb%2Fbf%2Fd3cb5432432eb5ce59dd46f618dd%2Fjoseph-j-wolk-4.png'\n",
      "(12/22): 'https://jnj-content-lab.brightspotcdn.com/dims4/default/545f255/2147483647/strip/true/crop/360x360+0+0/resize/360x360!/quality/90/?url=https%3A%2F%2Fjnj-content-lab.brightspotcdn.com%2F57%2F02%2Fabec1b1e420cb32a0dd6f076b00f%2Fscott-davis-1.png'\n",
      "(13/22): 'https://jnj-content-lab.brightspotcdn.com/dims4/default/5bfe51b/2147483647/strip/true/crop/360x360+0+0/resize/360x360!/quality/90/?url=https%3A%2F%2Fjnj-content-lab.brightspotcdn.com%2Fb4%2F13%2Fea9f64aa491cad7060e4c634a6cb%2Fian-davis-1.png'\n",
      "(14/22): 'https://jnj-content-lab.brightspotcdn.com/dims4/default/efdc9fb/2147483647/strip/true/crop/360x360+0+0/resize/360x360!/quality/90/?url=https%3A%2F%2Fjnj-content-lab.brightspotcdn.com%2F56%2F5a%2F5b024e2b4ca684102f111f6da634%2Fmarilyn-hewson-silhouette.png'\n",
      "(15/22): 'https://jnj-content-lab.brightspotcdn.com/dims4/default/c07e18f/2147483647/strip/true/crop/360x360+0+0/resize/360x360!/quality/90/?url=https%3A%2F%2Fjnj-content-lab.brightspotcdn.com%2Fce%2F33%2F6b00058b4f01b8500393f7305de7%2Fmark-mcclellan-1.png'\n",
      "(16/22): 'https://jnj-content-lab.brightspotcdn.com/dims4/default/d6e978b/2147483647/strip/true/crop/360x360+0+0/resize/360x360!/quality/90/?url=https%3A%2F%2Fjnj-content-lab.brightspotcdn.com%2Fd7%2F30%2Fb88200be4bf988a4d2d72d9bd32b%2Fanne-mulcahy-1.png'\n",
      "(17/22): 'https://jnj-content-lab.brightspotcdn.com/dims4/default/e27af39/2147483647/strip/true/crop/360x360+0+0/resize/360x360!/quality/90/?url=https%3A%2F%2Fjnj-content-lab.brightspotcdn.com%2Fa7%2Fde%2Fc7223e0d4e1480a331d0bba54578%2Fwilliam-perez-1.png'\n",
      "(18/22): 'https://jnj-content-lab.brightspotcdn.com/dims4/default/165053f/2147483647/strip/true/crop/360x360+0+0/resize/360x360!/quality/90/?url=https%3A%2F%2Fjnj-content-lab.brightspotcdn.com%2Fd0%2Fbc%2Fafaae89148608cd14de54a31e662%2Fcharles-prince-1.png'\n",
      "(19/22): 'https://jnj-content-lab.brightspotcdn.com/dims4/default/fb13dfc/2147483647/strip/true/crop/360x360+0+0/resize/360x360!/quality/90/?url=https%3A%2F%2Fjnj-content-lab.brightspotcdn.com%2Fb2%2Fd3%2F4d0d03a14bf9b48312ebb74a5442%2Feugene-washington-1.png'\n",
      "(20/22): 'https://jnj-content-lab.brightspotcdn.com/dims4/default/002165f/2147483647/strip/true/crop/360x360+0+0/resize/360x360!/quality/90/?url=https%3A%2F%2Fjnj-content-lab.brightspotcdn.com%2F2a%2F58%2F133e47d34c2a8a8915763bae5f8f%2Fmary-beckerle-1.png'\n",
      "(21/22): 'https://jnj-content-lab.brightspotcdn.com/dims4/default/b5c974e/2147483647/strip/true/crop/360x360+0+0/resize/360x360!/quality/90/?url=https%3A%2F%2Fjnj-content-lab.brightspotcdn.com%2F8a%2Ff0%2F75df934b49b39df58cce43905ff5%2Fjennifer-doudna-1.png'\n",
      "(22/22): 'https://jnj-content-lab.brightspotcdn.com/dims4/default/dc2ef65/2147483647/strip/true/crop/360x360+0+0/resize/360x360!/quality/90/?url=https%3A%2F%2Fjnj-content-lab.brightspotcdn.com%2Fe7%2F3e%2F0ecba2b148228cacd78f579c5d6a%2Fronald-a-williams.png'\n"
     ]
    }
   ],
   "source": [
    "download_and_save_images(company, rank, links.iloc[30:], invert=True, swap_cols=True)"
   ]
  },
  {
   "cell_type": "markdown",
   "metadata": {},
   "source": [
    "# Download images from names\n",
    "\n",
    "(when there aren't any pictures on the company page)"
   ]
  },
  {
   "cell_type": "code",
   "execution_count": 31,
   "metadata": {},
   "outputs": [],
   "source": [
    "response = google_images_download.googleimagesdownload()"
   ]
  },
  {
   "cell_type": "code",
   "execution_count": 279,
   "metadata": {},
   "outputs": [],
   "source": [
    "def download_images_from_names(names, company, rank, extra_phrase=\"\"):\n",
    "    output_dir = f\"./images/{rank:02.0f}_{company.replace(' ', '_')}\"\n",
    "    args = {\"limit\": 5, \"silent_mode\": True,\n",
    "            \"output_directory\": output_dir, \"no_directory\": True, \"delay\": 0.1,\n",
    "            \"save_source\": \"face_image_urls\", \"print_urls\": False,\n",
    "            \"no_download\": True}\n",
    "\n",
    "    for n, name in enumerate(names):\n",
    "        print(f\"({n + 1}/{len(names)}): {name}\")\n",
    "        query = f\"{name} {company}{' ' + extra_phrase.lstrip(' ')}\".strip()\n",
    "        args[\"keywords\"] = query\n",
    "        image_path = response.download(args)\n",
    "        key = list(image_path[0].keys())[0]\n",
    "\n",
    "        # Check the image URLs for a face\n",
    "        for url in image_path[0][key]:\n",
    "            try:\n",
    "                # Read the image URL\n",
    "                r = requests.get(url)\n",
    "                image = io.imread(BytesIO(r.content))[..., ::-1]\n",
    "                found_faces = facer.detector(image, 1)\n",
    "                if not found_faces or len(found_faces) != 1:\n",
    "                    continue\n",
    "\n",
    "                # Download the image if we found a face\n",
    "                fp = os.path.join(output_dir, f\"{n:02.0f}_{name.replace(' ', '_')}.jpg\")\n",
    "                cv2.imwrite(fp, image)\n",
    "                break            \n",
    "            except Exception as e:\n",
    "                print(f\"Error:\\n\\t{e}\")\n",
    "        time.sleep(1)\n",
    "    print(\"All done.\")"
   ]
  },
  {
   "cell_type": "markdown",
   "metadata": {},
   "source": [
    "## (6) UnitedHealth Group\n",
    "\n",
    "No images on page"
   ]
  },
  {
   "cell_type": "code",
   "execution_count": 40,
   "metadata": {},
   "outputs": [
    {
     "name": "stdout",
     "output_type": "stream",
     "text": [
      "UnitedHealth Group\n",
      "https://www.unitedhealthgroup.com/about/executives.html\n"
     ]
    }
   ],
   "source": [
    "rank = 6\n",
    "company = fortune.loc[rank, \"NAME\"]\n",
    "url = fortune.loc[rank, \"URL_LEADERSHIP\"]\n",
    "print(company)\n",
    "print(url)"
   ]
  },
  {
   "cell_type": "code",
   "execution_count": 33,
   "metadata": {},
   "outputs": [],
   "source": [
    "# Scrape the executives' names from the website\n",
    "page = requests.get(url)\n",
    "soup = BeautifulSoup(page.content, \"lxml\")"
   ]
  },
  {
   "cell_type": "code",
   "execution_count": 34,
   "metadata": {},
   "outputs": [
    {
     "name": "stdout",
     "output_type": "stream",
     "text": [
      "['Stephen J. Hemsley', 'David S. Wichmann', 'Larry C. Renfro', 'Cory B. Alexander', 'Ken Ehlert', 'Dirk McMahon', 'Richard Migliori', 'John Rex', 'Dan Schumacher', 'Marianne D. Short', 'D. Ellen Wilson', 'Andrew Witty', 'Terry M. Clark', 'Brett Manderfeld', 'Tom Roos', 'Jennifer Whitlow']\n"
     ]
    }
   ],
   "source": [
    "names = soup.find_all(\"h3\")\n",
    "names = [name.text.strip().split(\",\", 1)[0] for name in names]\n",
    "print(names)"
   ]
  },
  {
   "cell_type": "code",
   "execution_count": null,
   "metadata": {},
   "outputs": [],
   "source": [
    "download_images_from_names(names, company, rank)"
   ]
  },
  {
   "cell_type": "markdown",
   "metadata": {},
   "source": [
    "## (14) Costco Wholesale\n",
    "\n",
    "No images on page"
   ]
  },
  {
   "cell_type": "code",
   "execution_count": 41,
   "metadata": {},
   "outputs": [
    {
     "name": "stdout",
     "output_type": "stream",
     "text": [
      "Costco Wholesale\n",
      "http://investor.costco.com/executive-officers\n"
     ]
    }
   ],
   "source": [
    "rank = 14\n",
    "company = fortune.loc[rank, \"NAME\"]\n",
    "url = fortune.loc[rank, \"URL_LEADERSHIP\"]\n",
    "print(company)\n",
    "print(url)"
   ]
  },
  {
   "cell_type": "code",
   "execution_count": 42,
   "metadata": {},
   "outputs": [],
   "source": [
    "# Scrape the executives' names from the website\n",
    "page = requests.get(url)\n",
    "soup = BeautifulSoup(page.content, \"lxml\")"
   ]
  },
  {
   "cell_type": "code",
   "execution_count": 45,
   "metadata": {},
   "outputs": [
    {
     "name": "stdout",
     "output_type": "stream",
     "text": [
      "['Jeff Abadir', 'Claudine Adamo', 'Andree T. Brien', 'Don Burdick', 'Pat Callans', 'Richard Chang', 'Richard C. Chavez', 'Victor A. Curtis', 'Richard Delie', 'Caton Frates', 'John B. Gaherty', 'Richard A. Galanti', 'Jaime Gonzalez', 'Bill Hanson', 'Dan Hines', 'W. Craig Jelinek', 'Jim Klauer', 'Paul W. Latham', 'Franz Lazarus', 'Jeffrey Long', 'Jeffrey Lyons', 'Russ Miller', 'Ali Moayeri', 'Paul G. Moulton', 'James P. Murphy', 'Bob Nelson', 'Mario Omoss', 'Stephen M. Pappas', 'Joseph P. Portera', 'Pierre Riel', 'Timothy L. Rose', 'Yoram Rubanenko', 'James W Rutherford', 'David Skinner', 'John Sullivan', 'John Thelan', 'Ron Vachris', 'Darby  Greek', 'Rich Wilcox']\n"
     ]
    }
   ],
   "source": [
    "names = soup.find_all(class_=\"nir-widget--field nir-widget--person--name\")\n",
    "names = [name.text.strip().split(\",\", 1)[0] for name in names]\n",
    "print(names)"
   ]
  },
  {
   "cell_type": "code",
   "execution_count": 46,
   "metadata": {},
   "outputs": [
    {
     "name": "stdout",
     "output_type": "stream",
     "text": [
      "(1/39): Jeff Abadir\n",
      "Downloading images for: Jeff Abadir Costco Wholesale ...\n",
      "Error:\n",
      "\tNo connection adapters were found for 'x-raw-image:///0c5cd2028de28e88a6119873beb39cec77dcc3c623d0eda795f58d3699f3820d'\n",
      "Error:\n",
      "\tCould not find a format to read the specified file in mode 'i'\n",
      "(2/39): Claudine Adamo\n",
      "Downloading images for: Claudine Adamo Costco Wholesale ...\n",
      "(3/39): Andree T. Brien\n",
      "Downloading images for: Andree T. Brien Costco Wholesale ...\n",
      "(4/39): Don Burdick\n",
      "Downloading images for: Don Burdick Costco Wholesale ...\n",
      "(5/39): Pat Callans\n",
      "Downloading images for: Pat Callans Costco Wholesale ...\n",
      "(6/39): Richard Chang\n",
      "Downloading images for: Richard Chang Costco Wholesale ...\n",
      "(7/39): Richard C. Chavez\n",
      "Downloading images for: Richard C. Chavez Costco Wholesale ...\n",
      "Error:\n",
      "\tCould not find a format to read the specified file in mode 'i'\n",
      "Error:\n",
      "\tCould not find a format to read the specified file in mode 'i'\n",
      "(8/39): Victor A. Curtis\n",
      "Downloading images for: Victor A. Curtis Costco Wholesale ...\n",
      "(9/39): Richard Delie\n",
      "Downloading images for: Richard Delie Costco Wholesale ...\n",
      "Error:\n",
      "\tNo connection adapters were found for 'x-raw-image:///0e3304fe72c65690d48b9ea7cc47021aa788d12b0e8c0e7be40d69191526aa60'\n",
      "Error:\n",
      "\tUnsupported image type, must be 8bit gray or RGB image.\n",
      "(10/39): Caton Frates\n",
      "Downloading images for: Caton Frates Costco Wholesale ...\n",
      "(11/39): John B. Gaherty\n",
      "Downloading images for: John B. Gaherty Costco Wholesale ...\n",
      "Error:\n",
      "\tCould not find a format to read the specified file in mode 'i'\n",
      "(12/39): Richard A. Galanti\n",
      "Downloading images for: Richard A. Galanti Costco Wholesale ...\n",
      "(13/39): Jaime Gonzalez\n",
      "Downloading images for: Jaime Gonzalez Costco Wholesale ...\n",
      "Error:\n",
      "\tCould not find a format to read the specified file in mode 'i'\n",
      "(14/39): Bill Hanson\n",
      "Downloading images for: Bill Hanson Costco Wholesale ...\n",
      "(15/39): Dan Hines\n",
      "Downloading images for: Dan Hines Costco Wholesale ...\n",
      "(16/39): W. Craig Jelinek\n",
      "Downloading images for: W. Craig Jelinek Costco Wholesale ...\n",
      "(17/39): Jim Klauer\n",
      "Downloading images for: Jim Klauer Costco Wholesale ...\n",
      "(18/39): Paul W. Latham\n",
      "Downloading images for: Paul W. Latham Costco Wholesale ...\n",
      "(19/39): Franz Lazarus\n",
      "Downloading images for: Franz Lazarus Costco Wholesale ...\n",
      "(20/39): Jeffrey Long\n",
      "Downloading images for: Jeffrey Long Costco Wholesale ...\n",
      "(21/39): Jeffrey Lyons\n",
      "Downloading images for: Jeffrey Lyons Costco Wholesale ...\n",
      "(22/39): Russ Miller\n",
      "Downloading images for: Russ Miller Costco Wholesale ...\n",
      "(23/39): Ali Moayeri\n",
      "Downloading images for: Ali Moayeri Costco Wholesale ...\n",
      "(24/39): Paul G. Moulton\n",
      "Downloading images for: Paul G. Moulton Costco Wholesale ...\n",
      "(25/39): James P. Murphy\n",
      "Downloading images for: James P. Murphy Costco Wholesale ...\n",
      "Error:\n",
      "\tNo connection adapters were found for 'x-raw-image:///cb4c19a21ce5a32829e638fb95fb78753b5f3eeee1a17ce5a198902b154f8442'\n",
      "(26/39): Bob Nelson\n",
      "Downloading images for: Bob Nelson Costco Wholesale ...\n",
      "(27/39): Mario Omoss\n",
      "Downloading images for: Mario Omoss Costco Wholesale ...\n",
      "(28/39): Stephen M. Pappas\n",
      "Downloading images for: Stephen M. Pappas Costco Wholesale ...\n",
      "(29/39): Joseph P. Portera\n",
      "Downloading images for: Joseph P. Portera Costco Wholesale ...\n",
      "(30/39): Pierre Riel\n",
      "Downloading images for: Pierre Riel Costco Wholesale ...\n",
      "Error:\n",
      "\tUnsupported image type, must be 8bit gray or RGB image.\n",
      "(31/39): Timothy L. Rose\n",
      "Downloading images for: Timothy L. Rose Costco Wholesale ...\n",
      "Error:\n",
      "\tUnsupported image type, must be 8bit gray or RGB image.\n",
      "(32/39): Yoram Rubanenko\n",
      "Downloading images for: Yoram Rubanenko Costco Wholesale ...\n",
      "(33/39): James W Rutherford\n",
      "Downloading images for: James W Rutherford Costco Wholesale ...\n",
      "Error:\n",
      "\tNo connection adapters were found for 'x-raw-image:///0e3304fe72c65690d48b9ea7cc47021aa788d12b0e8c0e7be40d69191526aa60'\n",
      "(34/39): David Skinner\n",
      "Downloading images for: David Skinner Costco Wholesale ...\n",
      "(35/39): John Sullivan\n",
      "Downloading images for: John Sullivan Costco Wholesale ...\n",
      "(36/39): John Thelan\n",
      "Downloading images for: John Thelan Costco Wholesale ...\n",
      "(37/39): Ron Vachris\n",
      "Downloading images for: Ron Vachris Costco Wholesale ...\n",
      "(38/39): Darby  Greek\n",
      "Downloading images for: Darby  Greek Costco Wholesale ...\n",
      "(39/39): Rich Wilcox\n",
      "Downloading images for: Rich Wilcox Costco Wholesale ...\n",
      "All done.\n"
     ]
    }
   ],
   "source": [
    "download_images_from_names(names, company, rank)"
   ]
  },
  {
   "cell_type": "markdown",
   "metadata": {},
   "source": [
    "## (15) Alphabet\n",
    "\n",
    "No images on page"
   ]
  },
  {
   "cell_type": "code",
   "execution_count": 60,
   "metadata": {},
   "outputs": [
    {
     "name": "stdout",
     "output_type": "stream",
     "text": [
      "Alphabet\n",
      "https://abc.xyz/investor/other/board/#\n"
     ]
    }
   ],
   "source": [
    "rank = 15\n",
    "company = fortune.loc[rank, \"NAME\"]\n",
    "url = fortune.loc[rank, \"URL_LEADERSHIP\"]\n",
    "print(company)\n",
    "print(url)"
   ]
  },
  {
   "cell_type": "code",
   "execution_count": 61,
   "metadata": {},
   "outputs": [],
   "source": [
    "names = [\"Larry Page\",\n",
    "\"Sergey Brin\",\n",
    "\"John L. Hennessy\",\n",
    "\"L. John Doerr\",\n",
    "\"Roger W. Ferguson, Jr.\",\n",
    "\"Ann Mather\",\n",
    "\"Alan R. Mulally\",\n",
    "\"Sundar Pichai\",\n",
    "\"K. Ram Shriram\",\n",
    "\"Robin L. Washington\"]"
   ]
  },
  {
   "cell_type": "code",
   "execution_count": 62,
   "metadata": {},
   "outputs": [
    {
     "name": "stdout",
     "output_type": "stream",
     "text": [
      "(1/10): Larry Page\n",
      "Downloading images for: Larry Page Alphabet ...\n",
      "(2/10): Sergey Brin\n",
      "Downloading images for: Sergey Brin Alphabet ...\n",
      "(3/10): John L. Hennessy\n",
      "Downloading images for: John L. Hennessy Alphabet ...\n",
      "(4/10): L. John Doerr\n",
      "Downloading images for: L. John Doerr Alphabet ...\n",
      "(5/10): Roger W. Ferguson, Jr.\n",
      "Downloading images for: Roger W. Ferguson ...\n",
      "Downloading images for:  Jr. Alphabet ...\n",
      "(6/10): Ann Mather\n",
      "Downloading images for: Ann Mather Alphabet ...\n",
      "(7/10): Alan R. Mulally\n",
      "Downloading images for: Alan R. Mulally Alphabet ...\n",
      "(8/10): Sundar Pichai\n",
      "Downloading images for: Sundar Pichai Alphabet ...\n",
      "(9/10): K. Ram Shriram\n",
      "Downloading images for: K. Ram Shriram Alphabet ...\n",
      "(10/10): Robin L. Washington\n",
      "Downloading images for: Robin L. Washington Alphabet ...\n",
      "All done.\n"
     ]
    }
   ],
   "source": [
    "download_images_from_names(names, company, rank)"
   ]
  },
  {
   "cell_type": "markdown",
   "metadata": {},
   "source": [
    "## (20) Kroger\n",
    "\n",
    "No images on page"
   ]
  },
  {
   "cell_type": "code",
   "execution_count": 63,
   "metadata": {},
   "outputs": [
    {
     "name": "stdout",
     "output_type": "stream",
     "text": [
      "Kroger\n",
      "http://ir.kroger.com/management-and-directors\n"
     ]
    }
   ],
   "source": [
    "rank = 20\n",
    "company = fortune.loc[rank, \"NAME\"]\n",
    "url = fortune.loc[rank, \"URL_LEADERSHIP\"]\n",
    "print(company)\n",
    "print(url)"
   ]
  },
  {
   "cell_type": "code",
   "execution_count": 64,
   "metadata": {},
   "outputs": [],
   "source": [
    "# Scrape the executives' names from the website\n",
    "page = requests.get(url)\n",
    "soup = BeautifulSoup(page.content, \"lxml\")"
   ]
  },
  {
   "cell_type": "code",
   "execution_count": 65,
   "metadata": {},
   "outputs": [
    {
     "name": "stdout",
     "output_type": "stream",
     "text": [
      "['Mary Ellen Adcock', 'Stuart W. Aitken', 'Robert W. Clark', 'Yael Cosset', 'Michael J. Donnelly', 'Joseph A. Grieshaber Jr.', 'Calvin J. Kaufman', 'Timothy A. Massa', 'Stephen M. McKinney', 'W. Rodney McMullen', 'Gary Millerchip', 'J. Michael Schlotman', 'Erin S. Sharp', 'Alessandro Tosolini', 'Mark C. Tuffin', 'Christine S. Wheatley', 'Nora A. Aufreiter', 'Anne Gates', 'Susan J. Kropf', 'Jorge P. Montoya', 'Clyde R. Moore', 'James A. Runde', 'Ronald L. Sargent', 'Bobby S. Shackouls', 'Mark S. Sutton', 'Ashok Vemuri']\n"
     ]
    }
   ],
   "source": [
    "names = soup.find_all(class_=\"irwOfficerName text-primary\")\n",
    "names = [name.text.strip().split(\",\", 1)[0] for name in names]\n",
    "print(names)"
   ]
  },
  {
   "cell_type": "code",
   "execution_count": 67,
   "metadata": {},
   "outputs": [
    {
     "name": "stdout",
     "output_type": "stream",
     "text": [
      "(1/26): Mary Ellen Adcock\n",
      "Downloading images for: Mary Ellen Adcock Kroger ...\n",
      "(2/26): Stuart W. Aitken\n",
      "Downloading images for: Stuart W. Aitken Kroger ...\n",
      "(3/26): Robert W. Clark\n",
      "Downloading images for: Robert W. Clark Kroger ...\n",
      "(4/26): Yael Cosset\n",
      "Downloading images for: Yael Cosset Kroger ...\n",
      "(5/26): Michael J. Donnelly\n",
      "Downloading images for: Michael J. Donnelly Kroger ...\n",
      "(6/26): Joseph A. Grieshaber Jr.\n",
      "Downloading images for: Joseph A. Grieshaber Jr. Kroger ...\n",
      "(7/26): Calvin J. Kaufman\n",
      "Downloading images for: Calvin J. Kaufman Kroger ...\n",
      "(8/26): Timothy A. Massa\n",
      "Downloading images for: Timothy A. Massa Kroger ...\n",
      "(9/26): Stephen M. McKinney\n",
      "Downloading images for: Stephen M. McKinney Kroger ...\n",
      "(10/26): W. Rodney McMullen\n",
      "Downloading images for: W. Rodney McMullen Kroger ...\n",
      "(11/26): Gary Millerchip\n",
      "Downloading images for: Gary Millerchip Kroger ...\n",
      "(12/26): J. Michael Schlotman\n",
      "Downloading images for: J. Michael Schlotman Kroger ...\n",
      "(13/26): Erin S. Sharp\n",
      "Downloading images for: Erin S. Sharp Kroger ...\n",
      "Error:\n",
      "\tUnsupported image type, must be 8bit gray or RGB image.\n",
      "Error:\n",
      "\tUnsupported image type, must be 8bit gray or RGB image.\n",
      "(14/26): Alessandro Tosolini\n",
      "Downloading images for: Alessandro Tosolini Kroger ...\n",
      "(15/26): Mark C. Tuffin\n",
      "Downloading images for: Mark C. Tuffin Kroger ...\n",
      "(16/26): Christine S. Wheatley\n",
      "Downloading images for: Christine S. Wheatley Kroger ...\n",
      "(17/26): Nora A. Aufreiter\n",
      "Downloading images for: Nora A. Aufreiter Kroger ...\n",
      "(18/26): Anne Gates\n",
      "Downloading images for: Anne Gates Kroger ...\n",
      "(19/26): Susan J. Kropf\n",
      "Downloading images for: Susan J. Kropf Kroger ...\n",
      "(20/26): Jorge P. Montoya\n",
      "Downloading images for: Jorge P. Montoya Kroger ...\n",
      "(21/26): Clyde R. Moore\n",
      "Downloading images for: Clyde R. Moore Kroger ...\n",
      "Error:\n",
      "\tCould not find a format to read the specified file in mode 'i'\n",
      "(22/26): James A. Runde\n",
      "Downloading images for: James A. Runde Kroger ...\n",
      "(23/26): Ronald L. Sargent\n",
      "Downloading images for: Ronald L. Sargent Kroger ...\n",
      "(24/26): Bobby S. Shackouls\n",
      "Downloading images for: Bobby S. Shackouls Kroger ...\n",
      "(25/26): Mark S. Sutton\n",
      "Downloading images for: Mark S. Sutton Kroger ...\n",
      "(26/26): Ashok Vemuri\n",
      "Downloading images for: Ashok Vemuri Kroger ...\n",
      "All done.\n"
     ]
    }
   ],
   "source": [
    "download_images_from_names(names, company, rank)"
   ]
  },
  {
   "cell_type": "markdown",
   "metadata": {},
   "source": [
    "## (28) Boeing"
   ]
  },
  {
   "cell_type": "code",
   "execution_count": 252,
   "metadata": {},
   "outputs": [
    {
     "name": "stdout",
     "output_type": "stream",
     "text": [
      "Boeing\n",
      "http://www.boeing.com/company/bios/\n"
     ]
    }
   ],
   "source": [
    "rank = 28\n",
    "url = fortune.loc[rank][\"URL_LEADERSHIP\"]\n",
    "company = fortune.loc[rank][\"NAME\"]\n",
    "print(company)\n",
    "print(url)"
   ]
  },
  {
   "cell_type": "code",
   "execution_count": 274,
   "metadata": {},
   "outputs": [
    {
     "name": "stdout",
     "output_type": "stream",
     "text": [
      "['Dennis A. Muilenburg', 'Bertrand-Marc (Marc) Allen', 'Michael Arthur', 'Heidi B. Capozzi', 'Leanne Caret', 'Ted Colbert', 'Stanley A. Deal', 'Brett C. Gerry', 'Greg Hyslop', 'Timothy Keating', 'J. Michael Luttig', 'Kevin McAllister', 'Jenette E. Ramos', 'Diana Sands', 'Greg Smith', 'Anne Toulouse', 'Timothy (Tim) Myers', 'Kevin McAllister', 'Michael P. Delaney', 'Joelle Denney', 'Bruce A. Dickinson', 'Padraic Fennelly', 'Ernesto Gonzalez-Beltran', 'John Hamilton', 'Lynne Hopper', 'Mark D. Jenks', 'Jeff Klemann', 'Eric Lindblad', 'Elizabeth Lund', 'Linda Mills', 'Ihssane Mounir', 'Walt Odisho', 'Sheila Remes', 'Kevin Schemm', 'Mike Sinnett', 'Kim Smith', 'Vishwa Uddanwadiker', 'Brad Zaback', 'Leanne Caret', 'Mark C. Cherry', 'James H. Chilton', 'Todd Citron', 'Scott G. Drach', 'Ursula English', 'Denise Russell Fleming', 'Rik Geiersbach', 'Carol Hibbard', 'Anna Keeling', 'David M. Koopersmith', 'Shelley K. Lavender', 'Tony Martin', 'Jenna McMullin', 'Timothy (Tim) Peters', 'John (Jake) R. Phillips', 'Kristin A. Robertson', 'Jeff Shockey', 'Torbjorn (Turbo) Sjogren', 'Scott C. Strode', 'Norm E. Tew', 'Stan Deal', 'William A. Ampofo II', 'Gary Baker', 'Kristen Bruner', 'Conrad Chun', 'Keith Cooper', 'Edward (Ed) Dolanski', 'Mike Fleming', 'Dennis Floyd', 'Kuljit Ghata-Aura', 'Sergey Kravchenko', 'Ihssane Mounir', 'Stephanie Pope', 'Joan Robinson-Berry', 'Ken Sain', 'Torbjorn (Turbo) Sjogren', 'Kenneth A. (Ken) Shaw', 'Jeff Shockey', 'Robert (Bob) Simmons', 'Duane Wehking']\n"
     ]
    }
   ],
   "source": [
    "# Scrape the executives' names from the website\n",
    "page = requests.get(url)\n",
    "soup = BeautifulSoup(page.content, \"lxml\")\n",
    "rows = soup.find_all(\"td\", class_=\"table-col table-col-sm align-left\")\n",
    "names = [name.text.strip().split(\",\", 1)[0] for name in rows]\n",
    "print(names)"
   ]
  },
  {
   "cell_type": "code",
   "execution_count": 280,
   "metadata": {},
   "outputs": [
    {
     "name": "stdout",
     "output_type": "stream",
     "text": [
      "(1/79): Dennis A. Muilenburg\n",
      "Downloading images for: Dennis A. Muilenburg Boeing executive biography ...\n",
      "(2/79): Bertrand-Marc (Marc) Allen\n",
      "Downloading images for: Bertrand-Marc (Marc) Allen Boeing executive biography ...\n",
      "(3/79): Michael Arthur\n",
      "Downloading images for: Michael Arthur Boeing executive biography ...\n",
      "Error:\n",
      "\tHTTPSConnectionPool(host='www.boeing.co.uk', port=443): Max retries exceeded with url: /resources/en_UK/media/Boeing-in-the-UK/Executives/Michael-Arthur_lg.jpg (Caused by SSLError(SSLCertVerificationError(1, '[SSL: CERTIFICATE_VERIFY_FAILED] certificate verify failed: unable to get local issuer certificate (_ssl.c:1076)')))\n",
      "(4/79): Heidi B. Capozzi\n",
      "Downloading images for: Heidi B. Capozzi Boeing executive biography ...\n",
      "(5/79): Leanne Caret\n",
      "Downloading images for: Leanne Caret Boeing executive biography ...\n",
      "(6/79): Ted Colbert\n",
      "Downloading images for: Ted Colbert Boeing executive biography ...\n",
      "(7/79): Stanley A. Deal\n",
      "Downloading images for: Stanley A. Deal Boeing executive biography ...\n",
      "(8/79): Brett C. Gerry\n",
      "Downloading images for: Brett C. Gerry Boeing executive biography ...\n",
      "(9/79): Greg Hyslop\n",
      "Downloading images for: Greg Hyslop Boeing executive biography ...\n",
      "Error:\n",
      "\tNo connection adapters were found for 'x-raw-image:///ebbd56dc44f6be6c9cddc5b4d1ed8b4463d02fb1f022ee1a3e8f4be292ff7538'\n",
      "(10/79): Timothy Keating\n",
      "Downloading images for: Timothy Keating Boeing executive biography ...\n",
      "Error:\n",
      "\tCould not find a format to read the specified file in mode 'i'\n",
      "(11/79): J. Michael Luttig\n",
      "Downloading images for: J. Michael Luttig Boeing executive biography ...\n",
      "(12/79): Kevin McAllister\n",
      "Downloading images for: Kevin McAllister Boeing executive biography ...\n",
      "(13/79): Jenette E. Ramos\n",
      "Downloading images for: Jenette E. Ramos Boeing executive biography ...\n",
      "(14/79): Diana Sands\n",
      "Downloading images for: Diana Sands Boeing executive biography ...\n",
      "Error:\n",
      "\tCould not find a format to read the specified file in mode 'i'\n",
      "(15/79): Greg Smith\n",
      "Downloading images for: Greg Smith Boeing executive biography ...\n",
      "(16/79): Anne Toulouse\n",
      "Downloading images for: Anne Toulouse Boeing executive biography ...\n",
      "(17/79): Timothy (Tim) Myers\n",
      "Downloading images for: Timothy (Tim) Myers Boeing executive biography ...\n",
      "Error:\n",
      "\tCould not find a format to read the specified file in mode 'i'\n",
      "Error:\n",
      "\tCould not find a format to read the specified file in mode 'i'\n",
      "Error:\n",
      "\tCould not find a format to read the specified file in mode 'i'\n",
      "(18/79): Kevin McAllister\n",
      "Downloading images for: Kevin McAllister Boeing executive biography ...\n",
      "(19/79): Michael P. Delaney\n",
      "Downloading images for: Michael P. Delaney Boeing executive biography ...\n",
      "(20/79): Joelle Denney\n",
      "Downloading images for: Joelle Denney Boeing executive biography ...\n",
      "(21/79): Bruce A. Dickinson\n",
      "Downloading images for: Bruce A. Dickinson Boeing executive biography ...\n",
      "(22/79): Padraic Fennelly\n",
      "Downloading images for: Padraic Fennelly Boeing executive biography ...\n",
      "Error:\n",
      "\tUnsupported image type, must be 8bit gray or RGB image.\n",
      "Error:\n",
      "\tUnsupported image type, must be 8bit gray or RGB image.\n",
      "Error:\n",
      "\tUnsupported image type, must be 8bit gray or RGB image.\n",
      "Error:\n",
      "\tUnsupported image type, must be 8bit gray or RGB image.\n",
      "(23/79): Ernesto Gonzalez-Beltran\n",
      "Downloading images for: Ernesto Gonzalez-Beltran Boeing executive biography ...\n",
      "Error:\n",
      "\tCould not find a format to read the specified file in mode 'i'\n",
      "(24/79): John Hamilton\n",
      "Downloading images for: John Hamilton Boeing executive biography ...\n",
      "Error:\n",
      "\tUnsupported image type, must be 8bit gray or RGB image.\n",
      "(25/79): Lynne Hopper\n",
      "Downloading images for: Lynne Hopper Boeing executive biography ...\n",
      "(26/79): Mark D. Jenks\n",
      "Downloading images for: Mark D. Jenks Boeing executive biography ...\n",
      "(27/79): Jeff Klemann\n",
      "Downloading images for: Jeff Klemann Boeing executive biography ...\n",
      "Error:\n",
      "\tUnsupported image type, must be 8bit gray or RGB image.\n",
      "Error:\n",
      "\tCould not find a format to read the specified file in mode 'i'\n",
      "(28/79): Eric Lindblad\n",
      "Downloading images for: Eric Lindblad Boeing executive biography ...\n",
      "(29/79): Elizabeth Lund\n",
      "Downloading images for: Elizabeth Lund Boeing executive biography ...\n",
      "(30/79): Linda Mills\n",
      "Downloading images for: Linda Mills Boeing executive biography ...\n",
      "(31/79): Ihssane Mounir\n",
      "Downloading images for: Ihssane Mounir Boeing executive biography ...\n",
      "(32/79): Walt Odisho\n",
      "Downloading images for: Walt Odisho Boeing executive biography ...\n",
      "(33/79): Sheila Remes\n",
      "Downloading images for: Sheila Remes Boeing executive biography ...\n",
      "Error:\n",
      "\tCould not find a format to read the specified file in mode 'i'\n",
      "Error:\n",
      "\tCould not find a format to read the specified file in mode 'i'\n",
      "(34/79): Kevin Schemm\n",
      "Downloading images for: Kevin Schemm Boeing executive biography ...\n",
      "(35/79): Mike Sinnett\n",
      "Downloading images for: Mike Sinnett Boeing executive biography ...\n",
      "(36/79): Kim Smith\n",
      "Downloading images for: Kim Smith Boeing executive biography ...\n",
      "Error:\n",
      "\tUnsupported image type, must be 8bit gray or RGB image.\n",
      "(37/79): Vishwa Uddanwadiker\n",
      "Downloading images for: Vishwa Uddanwadiker Boeing executive biography ...\n",
      "Error:\n",
      "\tUnsupported image type, must be 8bit gray or RGB image.\n",
      "Error:\n",
      "\tUnsupported image type, must be 8bit gray or RGB image.\n",
      "(38/79): Brad Zaback\n",
      "Downloading images for: Brad Zaback Boeing executive biography ...\n",
      "(39/79): Leanne Caret\n",
      "Downloading images for: Leanne Caret Boeing executive biography ...\n",
      "(40/79): Mark C. Cherry\n",
      "Downloading images for: Mark C. Cherry Boeing executive biography ...\n",
      "Error:\n",
      "\tHTTPSConnectionPool(host='www.halberthargrove.com', port=443): Max retries exceeded with url: /wp-content/uploads/2015/06/Mark-P-Janci.jpg (Caused by SSLError(SSLCertVerificationError(1, '[SSL: CERTIFICATE_VERIFY_FAILED] certificate verify failed: unable to get local issuer certificate (_ssl.c:1076)')))\n",
      "(41/79): James H. Chilton\n",
      "Downloading images for: James H. Chilton Boeing executive biography ...\n",
      "Error:\n",
      "\tNo connection adapters were found for 'x-raw-image:///312def1cc83b77c52d8930749a47cc96b53f1a5bd90399cdd56af656db34858c'\n",
      "(42/79): Todd Citron\n",
      "Downloading images for: Todd Citron Boeing executive biography ...\n",
      "Error:\n",
      "\tNo connection adapters were found for 'x-raw-image:///80fb6fa8cb5598029bd57ecb32aabb6cdc3b5411af59b75e3a2ba86925883255'\n",
      "(43/79): Scott G. Drach\n",
      "Downloading images for: Scott G. Drach Boeing executive biography ...\n",
      "(44/79): Ursula English\n",
      "Downloading images for: Ursula English Boeing executive biography ...\n",
      "(45/79): Denise Russell Fleming\n",
      "Downloading images for: Denise Russell Fleming Boeing executive biography ...\n",
      "(46/79): Rik Geiersbach\n",
      "Downloading images for: Rik Geiersbach Boeing executive biography ...\n",
      "(47/79): Carol Hibbard\n",
      "Downloading images for: Carol Hibbard Boeing executive biography ...\n",
      "Error:\n",
      "\tCould not find a format to read the specified file in mode 'i'\n",
      "Error:\n",
      "\tCould not find a format to read the specified file in mode 'i'\n",
      "(48/79): Anna Keeling\n",
      "Downloading images for: Anna Keeling Boeing executive biography ...\n",
      "(49/79): David M. Koopersmith\n",
      "Downloading images for: David M. Koopersmith Boeing executive biography ...\n",
      "Error:\n",
      "\tUnsupported image type, must be 8bit gray or RGB image.\n",
      "Error:\n",
      "\tUnsupported image type, must be 8bit gray or RGB image.\n",
      "Error:\n",
      "\tUnsupported image type, must be 8bit gray or RGB image.\n",
      "Error:\n",
      "\tUnsupported image type, must be 8bit gray or RGB image.\n",
      "Error:\n",
      "\tUnsupported image type, must be 8bit gray or RGB image.\n",
      "(50/79): Shelley K. Lavender\n",
      "Downloading images for: Shelley K. Lavender Boeing executive biography ...\n",
      "(51/79): Tony Martin\n",
      "Downloading images for: Tony Martin Boeing executive biography ...\n",
      "(52/79): Jenna McMullin\n",
      "Downloading images for: Jenna McMullin Boeing executive biography ...\n",
      "(53/79): Timothy (Tim) Peters\n",
      "Downloading images for: Timothy (Tim) Peters Boeing executive biography ...\n",
      "(54/79): John (Jake) R. Phillips\n",
      "Downloading images for: John (Jake) R. Phillips Boeing executive biography ...\n",
      "Error:\n",
      "\tCould not find a format to read the specified file in mode 'i'\n",
      "Error:\n",
      "\tCould not find a format to read the specified file in mode 'i'\n",
      "Error:\n",
      "\tCould not find a format to read the specified file in mode 'i'\n",
      "Error:\n",
      "\tUnsupported image type, must be 8bit gray or RGB image.\n",
      "Error:\n",
      "\tCould not find a format to read the specified file in mode 'i'\n",
      "(55/79): Kristin A. Robertson\n",
      "Downloading images for: Kristin A. Robertson Boeing executive biography ...\n",
      "(56/79): Jeff Shockey\n",
      "Downloading images for: Jeff Shockey Boeing executive biography ...\n",
      "(57/79): Torbjorn (Turbo) Sjogren\n",
      "Downloading images for: Torbjorn (Turbo) Sjogren Boeing executive biography ...\n",
      "(58/79): Scott C. Strode\n",
      "Downloading images for: Scott C. Strode Boeing executive biography ...\n",
      "Error:\n",
      "\tUnsupported image type, must be 8bit gray or RGB image.\n",
      "Error:\n",
      "\tUnsupported image type, must be 8bit gray or RGB image.\n",
      "(59/79): Norm E. Tew\n",
      "Downloading images for: Norm E. Tew Boeing executive biography ...\n",
      "Error:\n",
      "\tUnsupported image type, must be 8bit gray or RGB image.\n",
      "Error:\n",
      "\tUnsupported image type, must be 8bit gray or RGB image.\n",
      "Error:\n",
      "\tUnsupported image type, must be 8bit gray or RGB image.\n",
      "(60/79): Stan Deal\n",
      "Downloading images for: Stan Deal Boeing executive biography ...\n",
      "(61/79): William A. Ampofo II\n",
      "Downloading images for: William A. Ampofo II Boeing executive biography ...\n",
      "(62/79): Gary Baker\n",
      "Downloading images for: Gary Baker Boeing executive biography ...\n",
      "(63/79): Kristen Bruner\n",
      "Downloading images for: Kristen Bruner Boeing executive biography ...\n",
      "(64/79): Conrad Chun\n",
      "Downloading images for: Conrad Chun Boeing executive biography ...\n",
      "Error:\n",
      "\tNo connection adapters were found for 'x-raw-image:///f0f99639d8c39340b1e5fab4e2a153dd9ea196b5724a2841d0876c5b96bafeca'\n",
      "(65/79): Keith Cooper\n",
      "Downloading images for: Keith Cooper Boeing executive biography ...\n",
      "Error:\n",
      "\tNo connection adapters were found for 'x-raw-image:///a9f3a117dd7426dabf1b6a5979c8086d48bb9611f41aca8987c13d0a2a5a5a66'\n",
      "(66/79): Edward (Ed) Dolanski\n",
      "Downloading images for: Edward (Ed) Dolanski Boeing executive biography ...\n",
      "(67/79): Mike Fleming\n",
      "Downloading images for: Mike Fleming Boeing executive biography ...\n",
      "Error:\n",
      "\tNo connection adapters were found for 'x-raw-image:///0554aa9233e65c671f2a53135d61191440a92ee8bce57335ee39455a51f7dab1'\n",
      "(68/79): Dennis Floyd\n",
      "Downloading images for: Dennis Floyd Boeing executive biography ...\n",
      "(69/79): Kuljit Ghata-Aura\n",
      "Downloading images for: Kuljit Ghata-Aura Boeing executive biography ...\n",
      "Error:\n",
      "\tUnsupported image type, must be 8bit gray or RGB image.\n",
      "Error:\n",
      "\tUnsupported image type, must be 8bit gray or RGB image.\n",
      "Error:\n",
      "\tUnsupported image type, must be 8bit gray or RGB image.\n",
      "Error:\n",
      "\tUnsupported image type, must be 8bit gray or RGB image.\n",
      "Error:\n",
      "\tHTTPSConnectionPool(host='www.boeing-me.com', port=443): Max retries exceeded with url: /resources/en_ME/boeing-in-middle-east/key-executives/Omar_500x542.gif (Caused by SSLError(SSLCertVerificationError(1, '[SSL: CERTIFICATE_VERIFY_FAILED] certificate verify failed: unable to get local issuer certificate (_ssl.c:1076)')))\n",
      "(70/79): Sergey Kravchenko\n",
      "Downloading images for: Sergey Kravchenko Boeing executive biography ...\n",
      "(71/79): Ihssane Mounir\n",
      "Downloading images for: Ihssane Mounir Boeing executive biography ...\n",
      "(72/79): Stephanie Pope\n",
      "Downloading images for: Stephanie Pope Boeing executive biography ...\n",
      "Error:\n",
      "\tNo connection adapters were found for 'x-raw-image:///5985600e86cafc2cfd9379979d5bd6a07f624b67fdbacd315eae3b352c06ecbb'\n",
      "Error:\n",
      "\tNo connection adapters were found for 'x-raw-image:///7de8fbacf44cda00d805231882172622d7ec3617d5d1cafccbbe74e2eecbc1be'\n",
      "(73/79): Joan Robinson-Berry\n",
      "Downloading images for: Joan Robinson-Berry Boeing executive biography ...\n",
      "(74/79): Ken Sain\n",
      "Downloading images for: Ken Sain Boeing executive biography ...\n",
      "(75/79): Torbjorn (Turbo) Sjogren\n",
      "Downloading images for: Torbjorn (Turbo) Sjogren Boeing executive biography ...\n",
      "(76/79): Kenneth A. (Ken) Shaw\n",
      "Downloading images for: Kenneth A. (Ken) Shaw Boeing executive biography ...\n",
      "(77/79): Jeff Shockey\n",
      "Downloading images for: Jeff Shockey Boeing executive biography ...\n",
      "(78/79): Robert (Bob) Simmons\n",
      "Downloading images for: Robert (Bob) Simmons Boeing executive biography ...\n",
      "Error:\n",
      "\tNo connection adapters were found for 'x-raw-image:///a9f3a117dd7426dabf1b6a5979c8086d48bb9611f41aca8987c13d0a2a5a5a66'\n",
      "(79/79): Duane Wehking\n",
      "Downloading images for: Duane Wehking Boeing executive biography ...\n",
      "Error:\n",
      "\tCould not find a format to read the specified file in mode 'i'\n",
      "Error:\n",
      "\tUnsupported image type, must be 8bit gray or RGB image.\n",
      "All done.\n"
     ]
    }
   ],
   "source": [
    "download_images_from_names(names, company, rank, extra_phrase='executive biography')"
   ]
  },
  {
   "cell_type": "markdown",
   "metadata": {},
   "source": [
    "## (32) Comcast"
   ]
  },
  {
   "cell_type": "code",
   "execution_count": 281,
   "metadata": {},
   "outputs": [
    {
     "name": "stdout",
     "output_type": "stream",
     "text": [
      "Comcast\n",
      "https://www.cmcsa.com/corporate-governance/executive-officers\n"
     ]
    }
   ],
   "source": [
    "rank = 32\n",
    "url = fortune.loc[rank][\"URL_LEADERSHIP\"]\n",
    "company = fortune.loc[rank][\"NAME\"]\n",
    "print(company)\n",
    "print(url)"
   ]
  },
  {
   "cell_type": "code",
   "execution_count": 282,
   "metadata": {},
   "outputs": [],
   "source": [
    "# Scrape the executives' names from the website\n",
    "page = requests.get(url)\n",
    "soup = BeautifulSoup(page.content, \"lxml\")"
   ]
  },
  {
   "cell_type": "code",
   "execution_count": 308,
   "metadata": {},
   "outputs": [
    {
     "name": "stdout",
     "output_type": "stream",
     "text": [
      "['Brian L Roberts', 'Michael J Cavanagh', 'Stephen B Burke', 'David L Cohen', 'David N  Watson', 'Thomas J Reid', 'Daniel  C Murdock']\n"
     ]
    }
   ],
   "source": [
    "names = [name.text.strip() for name in soup.find_all(class_=\"list-people__text\")]\n",
    "names = [name.replace(\".\", \"\") for name in names]\n",
    "print(names)"
   ]
  },
  {
   "cell_type": "code",
   "execution_count": 311,
   "metadata": {},
   "outputs": [
    {
     "name": "stdout",
     "output_type": "stream",
     "text": [
      "(1/7): Brian L Roberts\n",
      "Downloading images for: Brian L Roberts Comcast \"leadership overview\" ...\n",
      "(2/7): Michael J Cavanagh\n",
      "Downloading images for: Michael J Cavanagh Comcast \"leadership overview\" ...\n",
      "(3/7): Stephen B Burke\n",
      "Downloading images for: Stephen B Burke Comcast \"leadership overview\" ...\n",
      "(4/7): David L Cohen\n",
      "Downloading images for: David L Cohen Comcast \"leadership overview\" ...\n",
      "(5/7): David N  Watson\n",
      "Downloading images for: David N  Watson Comcast \"leadership overview\" ...\n",
      "(6/7): Thomas J Reid\n",
      "Downloading images for: Thomas J Reid Comcast \"leadership overview\" ...\n",
      "(7/7): Daniel  C Murdock\n",
      "Downloading images for: Daniel  C Murdock Comcast \"leadership overview\" ...\n",
      "\n",
      "\n",
      "Unfortunately all 5 could not be downloaded because some images were not downloadable. 3 is all we got for this search filter!\n",
      "All done.\n"
     ]
    }
   ],
   "source": [
    "download_images_from_names(names, company, rank, extra_phrase='\"leadership overview\"')"
   ]
  },
  {
   "cell_type": "code",
   "execution_count": null,
   "metadata": {},
   "outputs": [],
   "source": [
    "bad_scrapes = [4, 6, 11, 14, 15, 20, 26, 28, 32, 35, 37]"
   ]
  },
  {
   "cell_type": "code",
   "execution_count": null,
   "metadata": {},
   "outputs": [],
   "source": [
    "\n",
    "\n",
    "\n",
    "\n",
    "\n",
    "\n",
    "\n",
    "\n",
    "\n"
   ]
  }
 ],
 "metadata": {
  "kernelspec": {
   "display_name": "Python 3",
   "language": "python",
   "name": "python3"
  },
  "language_info": {
   "codemirror_mode": {
    "name": "ipython",
    "version": 3
   },
   "file_extension": ".py",
   "mimetype": "text/x-python",
   "name": "python",
   "nbconvert_exporter": "python",
   "pygments_lexer": "ipython3",
   "version": "3.7.4"
  }
 },
 "nbformat": 4,
 "nbformat_minor": 4
}
